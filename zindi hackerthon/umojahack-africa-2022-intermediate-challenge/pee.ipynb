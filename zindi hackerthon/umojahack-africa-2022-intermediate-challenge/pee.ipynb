{
 "cells": [
  {
   "cell_type": "code",
   "execution_count": 2,
   "id": "d26deeef",
   "metadata": {},
   "outputs": [],
   "source": [
    "import pandas as pd\n",
    "import matplotlib.pyplot as plt\n",
    "import seaborn as sns\n",
    "from sklearn.metrics import mean_absolute_error\n",
    "from sklearn.model_selection import train_test_split\n",
    "from sklearn.preprocessing import LabelEncoder\n",
    "from sklearn.linear_model import LinearRegression\n",
    "\n",
    "%matplotlib inline\n",
    "import warnings\n",
    "warnings.filterwarnings('ignore')"
   ]
  },
  {
   "cell_type": "code",
   "execution_count": 3,
   "id": "8852ecc5",
   "metadata": {},
   "outputs": [
    {
     "name": "stdout",
     "output_type": "stream",
     "text": [
      " Volume in drive C has no label.\n",
      " Volume Serial Number is A20E-6E0F\n",
      "\n",
      " Directory of C:\\Users\\Naku\\Desktop\\books\\zindi hackerthon\\umojahack-africa-2022-intermediate-challenge\n",
      "\n",
      "03/19/2022  12:39 PM    <DIR>          .\n",
      "03/19/2022  12:39 PM    <DIR>          ..\n",
      "03/19/2022  04:40 AM    <DIR>          .ipynb_checkpoints\n",
      "03/19/2022  04:47 AM           141,916 Baseline.csv\n",
      "03/19/2022  12:39 PM           114,488 challenge 2.ipynb\n",
      "03/18/2022  07:04 AM               793 DataDictionary.csv\n",
      "03/18/2022  07:04 AM         4,069,463 policies.csv\n",
      "03/18/2022  07:04 AM            72,358 SampleSubmission.csv\n",
      "03/18/2022  07:04 AM           534,268 test.csv\n",
      "03/18/2022  07:04 AM         1,312,345 train.csv\n",
      "03/19/2022  04:40 AM           230,003 Zimnat_starternotebook.ipynb\n",
      "               8 File(s)      6,475,634 bytes\n",
      "               3 Dir(s)  270,930,964,480 bytes free\n"
     ]
    }
   ],
   "source": [
    "ls"
   ]
  },
  {
   "cell_type": "code",
   "execution_count": 4,
   "id": "b2fdea54",
   "metadata": {},
   "outputs": [],
   "source": [
    "#loading data\n",
    "dataInfo = pd.read_csv('DataDictionary.csv')\n",
    "policy = pd.read_csv('policies.csv')\n",
    "test = pd.read_csv('test.csv')\n",
    "train = pd.read_csv('train.csv')\n",
    "samplesubmission = pd.read_csv('SampleSubmission.csv')"
   ]
  },
  {
   "cell_type": "code",
   "execution_count": 5,
   "id": "f0897fc9",
   "metadata": {},
   "outputs": [
    {
     "data": {
      "text/html": [
       "<div>\n",
       "<style scoped>\n",
       "    .dataframe tbody tr th:only-of-type {\n",
       "        vertical-align: middle;\n",
       "    }\n",
       "\n",
       "    .dataframe tbody tr th {\n",
       "        vertical-align: top;\n",
       "    }\n",
       "\n",
       "    .dataframe thead th {\n",
       "        text-align: right;\n",
       "    }\n",
       "</style>\n",
       "<table border=\"1\" class=\"dataframe\">\n",
       "  <thead>\n",
       "    <tr style=\"text-align: right;\">\n",
       "      <th></th>\n",
       "      <th>Policy Data</th>\n",
       "      <th>Unnamed: 1</th>\n",
       "    </tr>\n",
       "  </thead>\n",
       "  <tbody>\n",
       "    <tr>\n",
       "      <th>0</th>\n",
       "      <td>Columns</td>\n",
       "      <td>Data type</td>\n",
       "    </tr>\n",
       "    <tr>\n",
       "      <th>1</th>\n",
       "      <td>policy number</td>\n",
       "      <td>Unique policy identifier</td>\n",
       "    </tr>\n",
       "    <tr>\n",
       "      <th>2</th>\n",
       "      <td>product code</td>\n",
       "      <td>product code</td>\n",
       "    </tr>\n",
       "    <tr>\n",
       "      <th>3</th>\n",
       "      <td>trans date</td>\n",
       "      <td>date of policy transaction</td>\n",
       "    </tr>\n",
       "    <tr>\n",
       "      <th>4</th>\n",
       "      <td>from date</td>\n",
       "      <td>first date of policy cover</td>\n",
       "    </tr>\n",
       "  </tbody>\n",
       "</table>\n",
       "</div>"
      ],
      "text/plain": [
       "     Policy Data                  Unnamed: 1\n",
       "0        Columns                   Data type\n",
       "1  policy number    Unique policy identifier\n",
       "2   product code                product code\n",
       "3     trans date  date of policy transaction\n",
       "4      from date  first date of policy cover"
      ]
     },
     "execution_count": 5,
     "metadata": {},
     "output_type": "execute_result"
    }
   ],
   "source": [
    "#viewing the data\n",
    "dataInfo.head()"
   ]
  },
  {
   "cell_type": "code",
   "execution_count": 6,
   "id": "3c858271",
   "metadata": {},
   "outputs": [
    {
     "data": {
      "text/html": [
       "<div>\n",
       "<style scoped>\n",
       "    .dataframe tbody tr th:only-of-type {\n",
       "        vertical-align: middle;\n",
       "    }\n",
       "\n",
       "    .dataframe tbody tr th {\n",
       "        vertical-align: top;\n",
       "    }\n",
       "\n",
       "    .dataframe thead th {\n",
       "        text-align: right;\n",
       "    }\n",
       "</style>\n",
       "<table border=\"1\" class=\"dataframe\">\n",
       "  <thead>\n",
       "    <tr style=\"text-align: right;\">\n",
       "      <th></th>\n",
       "      <th>policy_number</th>\n",
       "      <th>product_code</th>\n",
       "      <th>trans_date</th>\n",
       "      <th>from_date</th>\n",
       "      <th>to_date</th>\n",
       "      <th>agent</th>\n",
       "      <th>class_of_business</th>\n",
       "      <th>client_type</th>\n",
       "      <th>renewal_frequency</th>\n",
       "      <th>branch</th>\n",
       "    </tr>\n",
       "  </thead>\n",
       "  <tbody>\n",
       "    <tr>\n",
       "      <th>0</th>\n",
       "      <td>pol000006995</td>\n",
       "      <td>prod00033</td>\n",
       "      <td>2017-07-01 08:24:55.800</td>\n",
       "      <td>2017-07-01 00:00:00.000</td>\n",
       "      <td>2018-07-01 00:00:00.000</td>\n",
       "      <td>ag00005</td>\n",
       "      <td>cob00035</td>\n",
       "      <td>ct0001</td>\n",
       "      <td>rf0002</td>\n",
       "      <td>br00002</td>\n",
       "    </tr>\n",
       "    <tr>\n",
       "      <th>1</th>\n",
       "      <td>pol000009828</td>\n",
       "      <td>prod00005</td>\n",
       "      <td>2017-07-01 09:04:02.217</td>\n",
       "      <td>2017-07-03 00:00:00.000</td>\n",
       "      <td>2017-11-02 00:00:00.000</td>\n",
       "      <td>ag00226</td>\n",
       "      <td>cob00009</td>\n",
       "      <td>ct0003</td>\n",
       "      <td>rf0001</td>\n",
       "      <td>br00006</td>\n",
       "    </tr>\n",
       "    <tr>\n",
       "      <th>2</th>\n",
       "      <td>pol000009828</td>\n",
       "      <td>prod00005</td>\n",
       "      <td>2017-07-01 09:04:02.217</td>\n",
       "      <td>2017-07-03 00:00:00.000</td>\n",
       "      <td>2017-11-02 00:00:00.000</td>\n",
       "      <td>ag00226</td>\n",
       "      <td>cob00031</td>\n",
       "      <td>ct0003</td>\n",
       "      <td>rf0001</td>\n",
       "      <td>br00006</td>\n",
       "    </tr>\n",
       "    <tr>\n",
       "      <th>3</th>\n",
       "      <td>pol000007729</td>\n",
       "      <td>prod00005</td>\n",
       "      <td>2017-07-01 09:36:53.843</td>\n",
       "      <td>2017-07-01 00:00:00.000</td>\n",
       "      <td>2017-10-31 00:00:00.000</td>\n",
       "      <td>ag00005</td>\n",
       "      <td>cob00031</td>\n",
       "      <td>ct0003</td>\n",
       "      <td>rf0001</td>\n",
       "      <td>br00002</td>\n",
       "    </tr>\n",
       "    <tr>\n",
       "      <th>4</th>\n",
       "      <td>pol000007729</td>\n",
       "      <td>prod00005</td>\n",
       "      <td>2017-07-01 09:36:53.843</td>\n",
       "      <td>2017-07-01 00:00:00.000</td>\n",
       "      <td>2017-10-31 00:00:00.000</td>\n",
       "      <td>ag00005</td>\n",
       "      <td>cob00009</td>\n",
       "      <td>ct0003</td>\n",
       "      <td>rf0001</td>\n",
       "      <td>br00002</td>\n",
       "    </tr>\n",
       "  </tbody>\n",
       "</table>\n",
       "</div>"
      ],
      "text/plain": [
       "  policy_number product_code               trans_date  \\\n",
       "0  pol000006995    prod00033  2017-07-01 08:24:55.800   \n",
       "1  pol000009828    prod00005  2017-07-01 09:04:02.217   \n",
       "2  pol000009828    prod00005  2017-07-01 09:04:02.217   \n",
       "3  pol000007729    prod00005  2017-07-01 09:36:53.843   \n",
       "4  pol000007729    prod00005  2017-07-01 09:36:53.843   \n",
       "\n",
       "                 from_date                  to_date    agent  \\\n",
       "0  2017-07-01 00:00:00.000  2018-07-01 00:00:00.000  ag00005   \n",
       "1  2017-07-03 00:00:00.000  2017-11-02 00:00:00.000  ag00226   \n",
       "2  2017-07-03 00:00:00.000  2017-11-02 00:00:00.000  ag00226   \n",
       "3  2017-07-01 00:00:00.000  2017-10-31 00:00:00.000  ag00005   \n",
       "4  2017-07-01 00:00:00.000  2017-10-31 00:00:00.000  ag00005   \n",
       "\n",
       "  class_of_business client_type renewal_frequency   branch  \n",
       "0          cob00035      ct0001            rf0002  br00002  \n",
       "1          cob00009      ct0003            rf0001  br00006  \n",
       "2          cob00031      ct0003            rf0001  br00006  \n",
       "3          cob00031      ct0003            rf0001  br00002  \n",
       "4          cob00009      ct0003            rf0001  br00002  "
      ]
     },
     "execution_count": 6,
     "metadata": {},
     "output_type": "execute_result"
    }
   ],
   "source": [
    "policy.head()"
   ]
  },
  {
   "cell_type": "code",
   "execution_count": 7,
   "id": "2304a450",
   "metadata": {},
   "outputs": [
    {
     "name": "stdout",
     "output_type": "stream",
     "text": [
      "<class 'pandas.core.frame.DataFrame'>\n",
      "RangeIndex: 30371 entries, 0 to 30370\n",
      "Data columns (total 10 columns):\n",
      " #   Column             Non-Null Count  Dtype \n",
      "---  ------             --------------  ----- \n",
      " 0   policy_number      30371 non-null  object\n",
      " 1   product_code       30371 non-null  object\n",
      " 2   trans_date         30371 non-null  object\n",
      " 3   from_date          30371 non-null  object\n",
      " 4   to_date            30371 non-null  object\n",
      " 5   agent              30371 non-null  object\n",
      " 6   class_of_business  30325 non-null  object\n",
      " 7   client_type        30371 non-null  object\n",
      " 8   renewal_frequency  30371 non-null  object\n",
      " 9   branch             30371 non-null  object\n",
      "dtypes: object(10)\n",
      "memory usage: 1.2+ MB\n"
     ]
    }
   ],
   "source": [
    "policy.info()"
   ]
  },
  {
   "cell_type": "markdown",
   "id": "f7879daf",
   "metadata": {},
   "source": [
    "FOCUSSING ON THE TRAIN DATA--VISUALISATION AND ANALYSIS"
   ]
  },
  {
   "cell_type": "code",
   "execution_count": 8,
   "id": "43ba63f5",
   "metadata": {},
   "outputs": [
    {
     "data": {
      "text/html": [
       "<div>\n",
       "<style scoped>\n",
       "    .dataframe tbody tr th:only-of-type {\n",
       "        vertical-align: middle;\n",
       "    }\n",
       "\n",
       "    .dataframe tbody tr th {\n",
       "        vertical-align: top;\n",
       "    }\n",
       "\n",
       "    .dataframe thead th {\n",
       "        text-align: right;\n",
       "    }\n",
       "</style>\n",
       "<table border=\"1\" class=\"dataframe\">\n",
       "  <thead>\n",
       "    <tr style=\"text-align: right;\">\n",
       "      <th></th>\n",
       "      <th>claim_id</th>\n",
       "      <th>policy_number</th>\n",
       "      <th>claim_number</th>\n",
       "      <th>sum_insured</th>\n",
       "      <th>product</th>\n",
       "      <th>agent</th>\n",
       "      <th>class_of_business</th>\n",
       "      <th>risk_type</th>\n",
       "      <th>loss_date</th>\n",
       "      <th>client_type</th>\n",
       "      <th>renewal_frequency</th>\n",
       "      <th>primary_cause</th>\n",
       "      <th>secondary_cause</th>\n",
       "      <th>branch</th>\n",
       "      <th>target</th>\n",
       "    </tr>\n",
       "  </thead>\n",
       "  <tbody>\n",
       "    <tr>\n",
       "      <th>0</th>\n",
       "      <td>ID_JZ7QWRHH57RO</td>\n",
       "      <td>pol000009680</td>\n",
       "      <td>claim0011359</td>\n",
       "      <td>300000.0</td>\n",
       "      <td>prod00027</td>\n",
       "      <td>ag00068</td>\n",
       "      <td>cob00031</td>\n",
       "      <td>rt00006</td>\n",
       "      <td>2021-05-13</td>\n",
       "      <td>ct0003</td>\n",
       "      <td>rf0001</td>\n",
       "      <td>pc0007</td>\n",
       "      <td>sc00022</td>\n",
       "      <td>br00006</td>\n",
       "      <td>82150.00</td>\n",
       "    </tr>\n",
       "    <tr>\n",
       "      <th>1</th>\n",
       "      <td>ID_KQ5TJMVLJ4EP</td>\n",
       "      <td>pol000006869</td>\n",
       "      <td>claim0005272</td>\n",
       "      <td>16000.0</td>\n",
       "      <td>prod00005</td>\n",
       "      <td>ag00226</td>\n",
       "      <td>cob00010</td>\n",
       "      <td>rt00032</td>\n",
       "      <td>2018-05-13</td>\n",
       "      <td>ct0003</td>\n",
       "      <td>rf0001</td>\n",
       "      <td>pc0007</td>\n",
       "      <td>sc00023</td>\n",
       "      <td>br00002</td>\n",
       "      <td>3780.24</td>\n",
       "    </tr>\n",
       "    <tr>\n",
       "      <th>2</th>\n",
       "      <td>ID_NYHI7WJGGIAE</td>\n",
       "      <td>pol000006135</td>\n",
       "      <td>claim0004147</td>\n",
       "      <td>3000.0</td>\n",
       "      <td>prod00029</td>\n",
       "      <td>ag00037</td>\n",
       "      <td>cob00010</td>\n",
       "      <td>rt00026</td>\n",
       "      <td>2018-08-18</td>\n",
       "      <td>ct0003</td>\n",
       "      <td>rf0001</td>\n",
       "      <td>pc0007</td>\n",
       "      <td>sc00024</td>\n",
       "      <td>br00002</td>\n",
       "      <td>2196.50</td>\n",
       "    </tr>\n",
       "    <tr>\n",
       "      <th>3</th>\n",
       "      <td>ID_ROMMDCXYUXN5</td>\n",
       "      <td>pol000008991</td>\n",
       "      <td>claim0009962</td>\n",
       "      <td>6000.0</td>\n",
       "      <td>prod00005</td>\n",
       "      <td>ag00037</td>\n",
       "      <td>cob00009</td>\n",
       "      <td>rt00032</td>\n",
       "      <td>2018-12-20</td>\n",
       "      <td>ct0003</td>\n",
       "      <td>rf0001</td>\n",
       "      <td>pc0007</td>\n",
       "      <td>sc00021</td>\n",
       "      <td>br00001</td>\n",
       "      <td>105.67</td>\n",
       "    </tr>\n",
       "    <tr>\n",
       "      <th>4</th>\n",
       "      <td>ID_2OTD9NX8L73D</td>\n",
       "      <td>pol000007768</td>\n",
       "      <td>claim0007346</td>\n",
       "      <td>26850.0</td>\n",
       "      <td>prod00015</td>\n",
       "      <td>ag00226</td>\n",
       "      <td>cob00034</td>\n",
       "      <td>rt00023</td>\n",
       "      <td>2018-11-07</td>\n",
       "      <td>ct0001</td>\n",
       "      <td>rf0001</td>\n",
       "      <td>pc0007</td>\n",
       "      <td>sc00021</td>\n",
       "      <td>br00001</td>\n",
       "      <td>1605.64</td>\n",
       "    </tr>\n",
       "  </tbody>\n",
       "</table>\n",
       "</div>"
      ],
      "text/plain": [
       "          claim_id policy_number  claim_number  sum_insured    product  \\\n",
       "0  ID_JZ7QWRHH57RO  pol000009680  claim0011359     300000.0  prod00027   \n",
       "1  ID_KQ5TJMVLJ4EP  pol000006869  claim0005272      16000.0  prod00005   \n",
       "2  ID_NYHI7WJGGIAE  pol000006135  claim0004147       3000.0  prod00029   \n",
       "3  ID_ROMMDCXYUXN5  pol000008991  claim0009962       6000.0  prod00005   \n",
       "4  ID_2OTD9NX8L73D  pol000007768  claim0007346      26850.0  prod00015   \n",
       "\n",
       "     agent class_of_business risk_type   loss_date client_type  \\\n",
       "0  ag00068          cob00031   rt00006  2021-05-13      ct0003   \n",
       "1  ag00226          cob00010   rt00032  2018-05-13      ct0003   \n",
       "2  ag00037          cob00010   rt00026  2018-08-18      ct0003   \n",
       "3  ag00037          cob00009   rt00032  2018-12-20      ct0003   \n",
       "4  ag00226          cob00034   rt00023  2018-11-07      ct0001   \n",
       "\n",
       "  renewal_frequency primary_cause secondary_cause   branch    target  \n",
       "0            rf0001        pc0007         sc00022  br00006  82150.00  \n",
       "1            rf0001        pc0007         sc00023  br00002   3780.24  \n",
       "2            rf0001        pc0007         sc00024  br00002   2196.50  \n",
       "3            rf0001        pc0007         sc00021  br00001    105.67  \n",
       "4            rf0001        pc0007         sc00021  br00001   1605.64  "
      ]
     },
     "execution_count": 8,
     "metadata": {},
     "output_type": "execute_result"
    }
   ],
   "source": [
    "train.head()"
   ]
  },
  {
   "cell_type": "code",
   "execution_count": 9,
   "id": "fdaae716",
   "metadata": {},
   "outputs": [
    {
     "name": "stdout",
     "output_type": "stream",
     "text": [
      "<class 'pandas.core.frame.DataFrame'>\n",
      "RangeIndex: 9376 entries, 0 to 9375\n",
      "Data columns (total 15 columns):\n",
      " #   Column             Non-Null Count  Dtype  \n",
      "---  ------             --------------  -----  \n",
      " 0   claim_id           9376 non-null   object \n",
      " 1   policy_number      9290 non-null   object \n",
      " 2   claim_number       9376 non-null   object \n",
      " 3   sum_insured        9376 non-null   float64\n",
      " 4   product            9376 non-null   object \n",
      " 5   agent              9376 non-null   object \n",
      " 6   class_of_business  9376 non-null   object \n",
      " 7   risk_type          9376 non-null   object \n",
      " 8   loss_date          9376 non-null   object \n",
      " 9   client_type        9376 non-null   object \n",
      " 10  renewal_frequency  9376 non-null   object \n",
      " 11  primary_cause      9376 non-null   object \n",
      " 12  secondary_cause    9376 non-null   object \n",
      " 13  branch             9376 non-null   object \n",
      " 14  target             9376 non-null   float64\n",
      "dtypes: float64(2), object(13)\n",
      "memory usage: 622.7+ KB\n"
     ]
    }
   ],
   "source": [
    "train.info()"
   ]
  },
  {
   "cell_type": "code",
   "execution_count": 10,
   "id": "03afd549",
   "metadata": {},
   "outputs": [
    {
     "data": {
      "text/plain": [
       "claim_id              0\n",
       "policy_number        86\n",
       "claim_number          0\n",
       "sum_insured           0\n",
       "product               0\n",
       "agent                 0\n",
       "class_of_business     0\n",
       "risk_type             0\n",
       "loss_date             0\n",
       "client_type           0\n",
       "renewal_frequency     0\n",
       "primary_cause         0\n",
       "secondary_cause       0\n",
       "branch                0\n",
       "target                0\n",
       "dtype: int64"
      ]
     },
     "execution_count": 10,
     "metadata": {},
     "output_type": "execute_result"
    }
   ],
   "source": [
    "train.isnull().sum()"
   ]
  },
  {
   "cell_type": "code",
   "execution_count": 11,
   "id": "fcf8c8c3",
   "metadata": {},
   "outputs": [
    {
     "data": {
      "image/png": "[encoded data removed]",
      "text/plain": [
       "<Figure size 648x720 with 1 Axes>"
      ]
     },
     "metadata": {
      "needs_background": "light"
     },
     "output_type": "display_data"
    }
   ],
   "source": [
    "# Plot missing values in train set\n",
    "ax = train.isna().sum().sort_values().plot(kind = 'barh', figsize = (9, 10))\n",
    "plt.title('Percentage of Missing Values Per Column in Train Set', fontdict={'size':15})\n",
    "for p in ax.patches:\n",
    "    percentage ='{:,.0f}%'.format((p.get_width()/train.shape[0])*100)\n",
    "    width, height =p.get_width(),p.get_height()\n",
    "    x=p.get_x()+width+0.02\n",
    "    y=p.get_y()+height/2\n",
    "    ax.annotate(percentage,(x,y))"
   ]
  },
  {
   "cell_type": "code",
   "execution_count": 12,
   "id": "ed6f3d95",
   "metadata": {},
   "outputs": [
    {
     "data": {
      "text/plain": [
       "0"
      ]
     },
     "execution_count": 12,
     "metadata": {},
     "output_type": "execute_result"
    }
   ],
   "source": [
    "#checking for duplications\n",
    "train.duplicated().sum()"
   ]
  },
  {
   "cell_type": "code",
   "execution_count": 13,
   "id": "1fdb2a5f",
   "metadata": {},
   "outputs": [
    {
     "data": {
      "image/png": "[encoded data removed]",
      "text/plain": [
       "<Figure size 864x432 with 1 Axes>"
      ]
     },
     "metadata": {
      "needs_background": "light"
     },
     "output_type": "display_data"
    }
   ],
   "source": [
    "# A box plot showing outliers\n",
    "plt.figure(figsize=(12, 6))\n",
    "sns.boxplot(train.target)\n",
    "plt.title('Target Variable Distribution');"
   ]
  },
  {
   "cell_type": "code",
   "execution_count": null,
   "id": "03912626",
   "metadata": {},
   "outputs": [],
   "source": []
  },
  {
   "cell_type": "code",
   "execution_count": 14,
   "id": "4e4deb19",
   "metadata": {},
   "outputs": [
    {
     "name": "stdout",
     "output_type": "stream",
     "text": [
      "Old Shape:  (9376, 15)\n"
     ]
    },
    {
     "ename": "KeyError",
     "evalue": "'[4036 4041 4050 4053 4054 4056 4061 4064 4068 4069 4078 4085 4087 4089\\n 4090 4093 4094 4105 4116 4119 4121 4124 4142 4153 4159 4163 4164 4172\\n 4176 4180 4195 4196 4205 4208 4210 4217 4219 4228 4235 4239 4241 4245\\n 4251 4259 4262 4264 4272 4285 4293 4299 4305 4306 4324 4325 4327 4329\\n 4331 4338 4341 4344 4350 4361 4362 4365 4371 4373 4391 4398 4407 4415\\n 4419 4424 4425 4434 4435 4436 4441 4446 4464 4468 4469 4478 4490 4521\\n 4522 4536 4540 4543 4549 4554 4556 4557 4562 4567 4572 4583 4588 4608\\n 4609 4615 4627 4631 4639 4644 4645 4650 4656 4657 4662 4663 4665 4667\\n 4675 4705 4718 4721 4735 4742 4748 4749 4767 4773 4777 4786 4793 4796\\n 4809 4819 4832 4848 4859 4860 4862 4864 4865 4868 4893 4898 4900 4915\\n 4916 4919 4921 4931 4933 4939 4940 4942 4945 4947 4960 4964 4973 4984\\n 4993 5003 5007 5015 5025 5026 5033 5044 5058 5067 5080 5086 5095 5117\\n 5118 5129 5137 5138 5139 5142 5146 5153 5162 5181 5182 5184 5194 5199\\n 5203 5207 5219 5248 5249 5255 5257 5264 5270 5284 5291 5294 5297 5300\\n 5310 5314 5320 5325 5328 5334 5337 5339 5340 5341 5345 5349 5367 5380\\n 5382 5387 5388 5391 5399 5406 5407 5408 5410 5413 5421 5423 5424 5438\\n 5439 5440 5445 5450 5452 5454 5474 5480 5482 5484 5492 5494 5505 5516\\n 5518 5526 5531 5533 5539 5542 5543 5548 5552 5553 5565 5568 5572 5573\\n 5580 5591 5596 5600 5601 5602 5604 5609 5611 5613 5617 5629 5636 5640\\n 5642 5653 5664 5673 5678 5685 5695 5703 5715 5716 5718 5728 5738 5741\\n 5742 5744 5745 5754 5755 5771 5785 5792 5799 5807 5822 5823 5828 5840\\n 5842 5843 5846 5850 5851 5852 5862 5863 5865 5869 5872 5882 5883 5894\\n 5896 5901 5908 5910 5930 5939 5958 5959 5961 5965 5969 5976 6004 6018\\n 6021 6030 6038 6040 6056 6057 6059 6088 6091 6097 6100 6108 6109 6118\\n 6124 6142 6150 6154 6155 6162 6176 6183 6187 6192 6195 6197 6211 6217\\n 6226 6234 6235 6237 6250 6251 6252 6254 6255 6256 6259 6274 6278 6286\\n 6288 6297 6317 6326 6328 6348 6352 6360 6363 6373 6374 6379 6401 6404\\n 6407 6411 6413 6426 6429 6434 6439 6451 6452 6456 6477 6483 6484 6499\\n 6503 6529 6542 6555 6564 6566 6568 6582 6584 6600 6607 6609 6614 6631\\n 6635 6653 6657 6674 6679 6685 6690 6704 6708 6710 6717 6722 6726 6731\\n 6737 6741 6757 6762 6771 6777 6790 6799 6805 6812 6815 6816 6826 6833\\n 6836 6846 6847 6869 6873 6879 6882 6892 6895 6906 6910 6912 6915 6926\\n 6928 6938 6943 6956 6958 6959 6965 6967 6975 6983 6991 6995 6998 7003\\n 7009 7015 7018 7033 7039 7040 7042 7055 7060 7063 7072 7073 7075 7085\\n 7092 7105 7116 7117 7122 7137 7139 7146 7147 7152 7157 7165 7178 7179\\n 7187 7190 7192 7196 7206 7213 7218 7220 7221 7229 7237 7249 7259 7265\\n 7266 7268 7271 7278 7308 7311 7314 7348 7350 7354 7355 7358 7362 7369\\n 7370 7374 7392 7396 7397 7398 7401 7410 7415 7422 7433 7449 7451 7463\\n 7471 7487 7498 7502 7503 7506 7508 7516 7519 7520 7529 7530 7534 7535\\n 7537 7548 7551 7552 7561 7579 7581 7587 7591 7593 7598 7600 7615 7622\\n 7623 7624 7628 7629 7642 7644 7652 7655 7672 7679 7682 7693 7700 7702\\n 7705 7713 7721 7742 7743 7744 7747 7750 7767 7772 7777 7778 7781 7786\\n 7791 7795 7797 7799 7807 7821 7824 7827 7830 7837 7843 7850 7852 7855\\n 7858 7870 7871 7875 7878 7919 7921 7923 7924 7934 7936 7941 7946 7949\\n 7950 7957 7961 7972 7975 7979 7981 7984 7991 7998 8000 8003 8006 8012\\n 8017 8030 8042 8046 8061 8065 8074 8082 8083 8106 8111 8112 8113 8114\\n 8116 8122 8124 8131 8135 8142 8148 8152 8157 8164 8179 8182 8187 8191\\n 8195 8199 8201 8207 8210 8215 8220 8221 8225 8226 8232 8241 8242 8249\\n 8259 8263 8271 8283 8284 8292 8299 8312 8313 8319 8327 8328 8329 8337\\n 8343 8346 8347 8351 8352 8357 8366 8373 8376 8386 8400 8404 8405 8422\\n 8424 8428 8429 8435 8439 8453 8454 8462 8464 8470 8472 8477 8489 8502\\n 8510 8512 8515 8531 8534 8537 8539 8544 8547 8552 8558 8569 8583 8586\\n 8599 8600 8605 8607 8616 8630 8633 8655 8656 8662 8667 8668 8683 8686\\n 8689 8690 8691 8695 8696 8709 8712 8720 8727 8728 8730 8735 8741 8742\\n 8748 8749 8750 8751 8753 8766 8768 8778 8785 8789 8793 8797 8805 8813\\n 8835 8837 8838 8843 8850 8851 8860 8861 8866 8872 8877 8878 8899 8902\\n 8903 8911 8914 8915 8936 8954 8958 8959 8964 8971 8973 8979 8980 8982\\n 8991 8999 9008 9032 9040 9042 9046 9049 9054 9056 9058 9061 9064 9069\\n 9075 9076 9077 9089 9098 9099 9108 9115 9143 9144 9148 9158 9160 9165\\n 9166 9169 9170 9188 9190 9192 9193 9200 9209 9219 9224 9246 9250 9256\\n 9268 9286 9305 9316 9319 9325 9328 9331 9335 9356 9368] not found in axis'",
     "output_type": "error",
     "traceback": [
      "\u001b[1;31m---------------------------------------------------------------------------\u001b[0m",
      "\u001b[1;31mKeyError\u001b[0m                                  Traceback (most recent call last)",
      "\u001b[1;32m<ipython-input-14-a270b1d9b58e>\u001b[0m in \u001b[0;36m<module>\u001b[1;34m\u001b[0m\n\u001b[0;32m     21\u001b[0m \u001b[0mtrain\u001b[0m\u001b[1;33m.\u001b[0m\u001b[0mdrop\u001b[0m\u001b[1;33m(\u001b[0m\u001b[0mupper\u001b[0m\u001b[1;33m[\u001b[0m\u001b[1;36m0\u001b[0m\u001b[1;33m]\u001b[0m\u001b[1;33m,\u001b[0m \u001b[0minplace\u001b[0m \u001b[1;33m=\u001b[0m \u001b[1;32mTrue\u001b[0m\u001b[1;33m)\u001b[0m\u001b[1;33m\u001b[0m\u001b[1;33m\u001b[0m\u001b[0m\n\u001b[0;32m     22\u001b[0m \u001b[0mtrain\u001b[0m\u001b[1;33m.\u001b[0m\u001b[0mdrop\u001b[0m\u001b[1;33m(\u001b[0m\u001b[0mlower\u001b[0m\u001b[1;33m[\u001b[0m\u001b[1;36m0\u001b[0m\u001b[1;33m]\u001b[0m\u001b[1;33m,\u001b[0m \u001b[0minplace\u001b[0m \u001b[1;33m=\u001b[0m \u001b[1;32mTrue\u001b[0m\u001b[1;33m)\u001b[0m\u001b[1;33m\u001b[0m\u001b[1;33m\u001b[0m\u001b[0m\n\u001b[1;32m---> 23\u001b[1;33m \u001b[0mtest\u001b[0m\u001b[1;33m.\u001b[0m\u001b[0mdrop\u001b[0m\u001b[1;33m(\u001b[0m\u001b[0mupper\u001b[0m\u001b[1;33m[\u001b[0m\u001b[1;36m0\u001b[0m\u001b[1;33m]\u001b[0m\u001b[1;33m,\u001b[0m \u001b[0minplace\u001b[0m \u001b[1;33m=\u001b[0m \u001b[1;32mTrue\u001b[0m\u001b[1;33m)\u001b[0m\u001b[1;33m\u001b[0m\u001b[1;33m\u001b[0m\u001b[0m\n\u001b[0m\u001b[0;32m     24\u001b[0m \u001b[0mtest\u001b[0m\u001b[1;33m.\u001b[0m\u001b[0mdrop\u001b[0m\u001b[1;33m(\u001b[0m\u001b[0mlower\u001b[0m\u001b[1;33m[\u001b[0m\u001b[1;36m0\u001b[0m\u001b[1;33m]\u001b[0m\u001b[1;33m,\u001b[0m \u001b[0minplace\u001b[0m \u001b[1;33m=\u001b[0m \u001b[1;32mTrue\u001b[0m\u001b[1;33m)\u001b[0m\u001b[1;33m\u001b[0m\u001b[1;33m\u001b[0m\u001b[0m\n\u001b[0;32m     25\u001b[0m \u001b[1;33m\u001b[0m\u001b[0m\n",
      "\u001b[1;32mC:\\ProgramData\\Anaconda3\\lib\\site-packages\\pandas\\core\\frame.py\u001b[0m in \u001b[0;36mdrop\u001b[1;34m(self, labels, axis, index, columns, level, inplace, errors)\u001b[0m\n\u001b[0;32m   4306\u001b[0m                 \u001b[0mweight\u001b[0m  \u001b[1;36m1.0\u001b[0m     \u001b[1;36m0.8\u001b[0m\u001b[1;33m\u001b[0m\u001b[1;33m\u001b[0m\u001b[0m\n\u001b[0;32m   4307\u001b[0m         \"\"\"\n\u001b[1;32m-> 4308\u001b[1;33m         return super().drop(\n\u001b[0m\u001b[0;32m   4309\u001b[0m             \u001b[0mlabels\u001b[0m\u001b[1;33m=\u001b[0m\u001b[0mlabels\u001b[0m\u001b[1;33m,\u001b[0m\u001b[1;33m\u001b[0m\u001b[1;33m\u001b[0m\u001b[0m\n\u001b[0;32m   4310\u001b[0m             \u001b[0maxis\u001b[0m\u001b[1;33m=\u001b[0m\u001b[0maxis\u001b[0m\u001b[1;33m,\u001b[0m\u001b[1;33m\u001b[0m\u001b[1;33m\u001b[0m\u001b[0m\n",
      "\u001b[1;32mC:\\ProgramData\\Anaconda3\\lib\\site-packages\\pandas\\core\\generic.py\u001b[0m in \u001b[0;36mdrop\u001b[1;34m(self, labels, axis, index, columns, level, inplace, errors)\u001b[0m\n\u001b[0;32m   4151\u001b[0m         \u001b[1;32mfor\u001b[0m \u001b[0maxis\u001b[0m\u001b[1;33m,\u001b[0m \u001b[0mlabels\u001b[0m \u001b[1;32min\u001b[0m \u001b[0maxes\u001b[0m\u001b[1;33m.\u001b[0m\u001b[0mitems\u001b[0m\u001b[1;33m(\u001b[0m\u001b[1;33m)\u001b[0m\u001b[1;33m:\u001b[0m\u001b[1;33m\u001b[0m\u001b[1;33m\u001b[0m\u001b[0m\n\u001b[0;32m   4152\u001b[0m             \u001b[1;32mif\u001b[0m \u001b[0mlabels\u001b[0m \u001b[1;32mis\u001b[0m \u001b[1;32mnot\u001b[0m \u001b[1;32mNone\u001b[0m\u001b[1;33m:\u001b[0m\u001b[1;33m\u001b[0m\u001b[1;33m\u001b[0m\u001b[0m\n\u001b[1;32m-> 4153\u001b[1;33m                 \u001b[0mobj\u001b[0m \u001b[1;33m=\u001b[0m \u001b[0mobj\u001b[0m\u001b[1;33m.\u001b[0m\u001b[0m_drop_axis\u001b[0m\u001b[1;33m(\u001b[0m\u001b[0mlabels\u001b[0m\u001b[1;33m,\u001b[0m \u001b[0maxis\u001b[0m\u001b[1;33m,\u001b[0m \u001b[0mlevel\u001b[0m\u001b[1;33m=\u001b[0m\u001b[0mlevel\u001b[0m\u001b[1;33m,\u001b[0m \u001b[0merrors\u001b[0m\u001b[1;33m=\u001b[0m\u001b[0merrors\u001b[0m\u001b[1;33m)\u001b[0m\u001b[1;33m\u001b[0m\u001b[1;33m\u001b[0m\u001b[0m\n\u001b[0m\u001b[0;32m   4154\u001b[0m \u001b[1;33m\u001b[0m\u001b[0m\n\u001b[0;32m   4155\u001b[0m         \u001b[1;32mif\u001b[0m \u001b[0minplace\u001b[0m\u001b[1;33m:\u001b[0m\u001b[1;33m\u001b[0m\u001b[1;33m\u001b[0m\u001b[0m\n",
      "\u001b[1;32mC:\\ProgramData\\Anaconda3\\lib\\site-packages\\pandas\\core\\generic.py\u001b[0m in \u001b[0;36m_drop_axis\u001b[1;34m(self, labels, axis, level, errors)\u001b[0m\n\u001b[0;32m   4186\u001b[0m                 \u001b[0mnew_axis\u001b[0m \u001b[1;33m=\u001b[0m \u001b[0maxis\u001b[0m\u001b[1;33m.\u001b[0m\u001b[0mdrop\u001b[0m\u001b[1;33m(\u001b[0m\u001b[0mlabels\u001b[0m\u001b[1;33m,\u001b[0m \u001b[0mlevel\u001b[0m\u001b[1;33m=\u001b[0m\u001b[0mlevel\u001b[0m\u001b[1;33m,\u001b[0m \u001b[0merrors\u001b[0m\u001b[1;33m=\u001b[0m\u001b[0merrors\u001b[0m\u001b[1;33m)\u001b[0m\u001b[1;33m\u001b[0m\u001b[1;33m\u001b[0m\u001b[0m\n\u001b[0;32m   4187\u001b[0m             \u001b[1;32melse\u001b[0m\u001b[1;33m:\u001b[0m\u001b[1;33m\u001b[0m\u001b[1;33m\u001b[0m\u001b[0m\n\u001b[1;32m-> 4188\u001b[1;33m                 \u001b[0mnew_axis\u001b[0m \u001b[1;33m=\u001b[0m \u001b[0maxis\u001b[0m\u001b[1;33m.\u001b[0m\u001b[0mdrop\u001b[0m\u001b[1;33m(\u001b[0m\u001b[0mlabels\u001b[0m\u001b[1;33m,\u001b[0m \u001b[0merrors\u001b[0m\u001b[1;33m=\u001b[0m\u001b[0merrors\u001b[0m\u001b[1;33m)\u001b[0m\u001b[1;33m\u001b[0m\u001b[1;33m\u001b[0m\u001b[0m\n\u001b[0m\u001b[0;32m   4189\u001b[0m             \u001b[0mresult\u001b[0m \u001b[1;33m=\u001b[0m \u001b[0mself\u001b[0m\u001b[1;33m.\u001b[0m\u001b[0mreindex\u001b[0m\u001b[1;33m(\u001b[0m\u001b[1;33m**\u001b[0m\u001b[1;33m{\u001b[0m\u001b[0maxis_name\u001b[0m\u001b[1;33m:\u001b[0m \u001b[0mnew_axis\u001b[0m\u001b[1;33m}\u001b[0m\u001b[1;33m)\u001b[0m\u001b[1;33m\u001b[0m\u001b[1;33m\u001b[0m\u001b[0m\n\u001b[0;32m   4190\u001b[0m \u001b[1;33m\u001b[0m\u001b[0m\n",
      "\u001b[1;32mC:\\ProgramData\\Anaconda3\\lib\\site-packages\\pandas\\core\\indexes\\base.py\u001b[0m in \u001b[0;36mdrop\u001b[1;34m(self, labels, errors)\u001b[0m\n\u001b[0;32m   5589\u001b[0m         \u001b[1;32mif\u001b[0m \u001b[0mmask\u001b[0m\u001b[1;33m.\u001b[0m\u001b[0many\u001b[0m\u001b[1;33m(\u001b[0m\u001b[1;33m)\u001b[0m\u001b[1;33m:\u001b[0m\u001b[1;33m\u001b[0m\u001b[1;33m\u001b[0m\u001b[0m\n\u001b[0;32m   5590\u001b[0m             \u001b[1;32mif\u001b[0m \u001b[0merrors\u001b[0m \u001b[1;33m!=\u001b[0m \u001b[1;34m\"ignore\"\u001b[0m\u001b[1;33m:\u001b[0m\u001b[1;33m\u001b[0m\u001b[1;33m\u001b[0m\u001b[0m\n\u001b[1;32m-> 5591\u001b[1;33m                 \u001b[1;32mraise\u001b[0m \u001b[0mKeyError\u001b[0m\u001b[1;33m(\u001b[0m\u001b[1;34mf\"{labels[mask]} not found in axis\"\u001b[0m\u001b[1;33m)\u001b[0m\u001b[1;33m\u001b[0m\u001b[1;33m\u001b[0m\u001b[0m\n\u001b[0m\u001b[0;32m   5592\u001b[0m             \u001b[0mindexer\u001b[0m \u001b[1;33m=\u001b[0m \u001b[0mindexer\u001b[0m\u001b[1;33m[\u001b[0m\u001b[1;33m~\u001b[0m\u001b[0mmask\u001b[0m\u001b[1;33m]\u001b[0m\u001b[1;33m\u001b[0m\u001b[1;33m\u001b[0m\u001b[0m\n\u001b[0;32m   5593\u001b[0m         \u001b[1;32mreturn\u001b[0m \u001b[0mself\u001b[0m\u001b[1;33m.\u001b[0m\u001b[0mdelete\u001b[0m\u001b[1;33m(\u001b[0m\u001b[0mindexer\u001b[0m\u001b[1;33m)\u001b[0m\u001b[1;33m\u001b[0m\u001b[1;33m\u001b[0m\u001b[0m\n",
      "\u001b[1;31mKeyError\u001b[0m: '[4036 4041 4050 4053 4054 4056 4061 4064 4068 4069 4078 4085 4087 4089\\n 4090 4093 4094 4105 4116 4119 4121 4124 4142 4153 4159 4163 4164 4172\\n 4176 4180 4195 4196 4205 4208 4210 4217 4219 4228 4235 4239 4241 4245\\n 4251 4259 4262 4264 4272 4285 4293 4299 4305 4306 4324 4325 4327 4329\\n 4331 4338 4341 4344 4350 4361 4362 4365 4371 4373 4391 4398 4407 4415\\n 4419 4424 4425 4434 4435 4436 4441 4446 4464 4468 4469 4478 4490 4521\\n 4522 4536 4540 4543 4549 4554 4556 4557 4562 4567 4572 4583 4588 4608\\n 4609 4615 4627 4631 4639 4644 4645 4650 4656 4657 4662 4663 4665 4667\\n 4675 4705 4718 4721 4735 4742 4748 4749 4767 4773 4777 4786 4793 4796\\n 4809 4819 4832 4848 4859 4860 4862 4864 4865 4868 4893 4898 4900 4915\\n 4916 4919 4921 4931 4933 4939 4940 4942 4945 4947 4960 4964 4973 4984\\n 4993 5003 5007 5015 5025 5026 5033 5044 5058 5067 5080 5086 5095 5117\\n 5118 5129 5137 5138 5139 5142 5146 5153 5162 5181 5182 5184 5194 5199\\n 5203 5207 5219 5248 5249 5255 5257 5264 5270 5284 5291 5294 5297 5300\\n 5310 5314 5320 5325 5328 5334 5337 5339 5340 5341 5345 5349 5367 5380\\n 5382 5387 5388 5391 5399 5406 5407 5408 5410 5413 5421 5423 5424 5438\\n 5439 5440 5445 5450 5452 5454 5474 5480 5482 5484 5492 5494 5505 5516\\n 5518 5526 5531 5533 5539 5542 5543 5548 5552 5553 5565 5568 5572 5573\\n 5580 5591 5596 5600 5601 5602 5604 5609 5611 5613 5617 5629 5636 5640\\n 5642 5653 5664 5673 5678 5685 5695 5703 5715 5716 5718 5728 5738 5741\\n 5742 5744 5745 5754 5755 5771 5785 5792 5799 5807 5822 5823 5828 5840\\n 5842 5843 5846 5850 5851 5852 5862 5863 5865 5869 5872 5882 5883 5894\\n 5896 5901 5908 5910 5930 5939 5958 5959 5961 5965 5969 5976 6004 6018\\n 6021 6030 6038 6040 6056 6057 6059 6088 6091 6097 6100 6108 6109 6118\\n 6124 6142 6150 6154 6155 6162 6176 6183 6187 6192 6195 6197 6211 6217\\n 6226 6234 6235 6237 6250 6251 6252 6254 6255 6256 6259 6274 6278 6286\\n 6288 6297 6317 6326 6328 6348 6352 6360 6363 6373 6374 6379 6401 6404\\n 6407 6411 6413 6426 6429 6434 6439 6451 6452 6456 6477 6483 6484 6499\\n 6503 6529 6542 6555 6564 6566 6568 6582 6584 6600 6607 6609 6614 6631\\n 6635 6653 6657 6674 6679 6685 6690 6704 6708 6710 6717 6722 6726 6731\\n 6737 6741 6757 6762 6771 6777 6790 6799 6805 6812 6815 6816 6826 6833\\n 6836 6846 6847 6869 6873 6879 6882 6892 6895 6906 6910 6912 6915 6926\\n 6928 6938 6943 6956 6958 6959 6965 6967 6975 6983 6991 6995 6998 7003\\n 7009 7015 7018 7033 7039 7040 7042 7055 7060 7063 7072 7073 7075 7085\\n 7092 7105 7116 7117 7122 7137 7139 7146 7147 7152 7157 7165 7178 7179\\n 7187 7190 7192 7196 7206 7213 7218 7220 7221 7229 7237 7249 7259 7265\\n 7266 7268 7271 7278 7308 7311 7314 7348 7350 7354 7355 7358 7362 7369\\n 7370 7374 7392 7396 7397 7398 7401 7410 7415 7422 7433 7449 7451 7463\\n 7471 7487 7498 7502 7503 7506 7508 7516 7519 7520 7529 7530 7534 7535\\n 7537 7548 7551 7552 7561 7579 7581 7587 7591 7593 7598 7600 7615 7622\\n 7623 7624 7628 7629 7642 7644 7652 7655 7672 7679 7682 7693 7700 7702\\n 7705 7713 7721 7742 7743 7744 7747 7750 7767 7772 7777 7778 7781 7786\\n 7791 7795 7797 7799 7807 7821 7824 7827 7830 7837 7843 7850 7852 7855\\n 7858 7870 7871 7875 7878 7919 7921 7923 7924 7934 7936 7941 7946 7949\\n 7950 7957 7961 7972 7975 7979 7981 7984 7991 7998 8000 8003 8006 8012\\n 8017 8030 8042 8046 8061 8065 8074 8082 8083 8106 8111 8112 8113 8114\\n 8116 8122 8124 8131 8135 8142 8148 8152 8157 8164 8179 8182 8187 8191\\n 8195 8199 8201 8207 8210 8215 8220 8221 8225 8226 8232 8241 8242 8249\\n 8259 8263 8271 8283 8284 8292 8299 8312 8313 8319 8327 8328 8329 8337\\n 8343 8346 8347 8351 8352 8357 8366 8373 8376 8386 8400 8404 8405 8422\\n 8424 8428 8429 8435 8439 8453 8454 8462 8464 8470 8472 8477 8489 8502\\n 8510 8512 8515 8531 8534 8537 8539 8544 8547 8552 8558 8569 8583 8586\\n 8599 8600 8605 8607 8616 8630 8633 8655 8656 8662 8667 8668 8683 8686\\n 8689 8690 8691 8695 8696 8709 8712 8720 8727 8728 8730 8735 8741 8742\\n 8748 8749 8750 8751 8753 8766 8768 8778 8785 8789 8793 8797 8805 8813\\n 8835 8837 8838 8843 8850 8851 8860 8861 8866 8872 8877 8878 8899 8902\\n 8903 8911 8914 8915 8936 8954 8958 8959 8964 8971 8973 8979 8980 8982\\n 8991 8999 9008 9032 9040 9042 9046 9049 9054 9056 9058 9061 9064 9069\\n 9075 9076 9077 9089 9098 9099 9108 9115 9143 9144 9148 9158 9160 9165\\n 9166 9169 9170 9188 9190 9192 9193 9200 9209 9219 9224 9246 9250 9256\\n 9268 9286 9305 9316 9319 9325 9328 9331 9335 9356 9368] not found in axis'"
     ]
    }
   ],
   "source": [
    "#removing outliers\n",
    "import numpy as np\n",
    "\n",
    "\n",
    "# IQR\n",
    "Q1 = np.percentile(train['target'], 25,\n",
    "                   interpolation = 'midpoint')\n",
    " \n",
    "Q3 = np.percentile(train['target'], 75,\n",
    "                   interpolation = 'midpoint')\n",
    "IQR = Q3 - Q1\n",
    " \n",
    "print(\"Old Shape: \", train.shape)\n",
    " \n",
    "# Upper bound\n",
    "upper = np.where(train['target'] >= (Q3+1.5*IQR))\n",
    "# Lower bound\n",
    "lower = np.where(train['target'] <= (Q1-1.5*IQR))\n",
    " \n",
    "''' Removing the Outliers '''\n",
    "train.drop(upper[0], inplace = True)\n",
    "train.drop(lower[0], inplace = True)\n",
    "test.drop(upper[0], inplace = True)\n",
    "test.drop(lower[0], inplace = True)\n",
    " \n",
    "print(\"New Shape: \", train.shape)"
   ]
  },
  {
   "cell_type": "code",
   "execution_count": null,
   "id": "d7583ca7",
   "metadata": {},
   "outputs": [],
   "source": [
    "# Convert datetime variables to datetime objects\n",
    "train.loss_date = pd.to_datetime(train.loss_date, errors='coerce')\n",
    "\n",
    "# Confirm that the dates have been converted successfully \n",
    "train.loss_date.describe()"
   ]
  },
  {
   "cell_type": "code",
   "execution_count": null,
   "id": "8a5de2a1",
   "metadata": {},
   "outputs": [],
   "source": [
    "# Convert categorical variables to categorical objects\n",
    "cat_cols = train.columns.difference(['claim_id', 'loss_date', 'sum_insured', 'target']).tolist()\n",
    "\n",
    "# Preview categorical variables\n",
    "train[cat_cols].head()"
   ]
  },
  {
   "cell_type": "code",
   "execution_count": 115,
   "id": "5a9617c5",
   "metadata": {},
   "outputs": [
    {
     "name": "stdout",
     "output_type": "stream",
     "text": [
      "<class 'pandas.core.frame.DataFrame'>\n",
      "Int64Index: 7873 entries, 1 to 9375\n",
      "Data columns (total 15 columns):\n",
      " #   Column             Non-Null Count  Dtype   \n",
      "---  ------             --------------  -----   \n",
      " 0   claim_id           7873 non-null   object  \n",
      " 1   policy_number      7873 non-null   category\n",
      " 2   claim_number       7873 non-null   category\n",
      " 3   sum_insured        7873 non-null   float64 \n",
      " 4   product            7873 non-null   category\n",
      " 5   agent              7873 non-null   category\n",
      " 6   class_of_business  7873 non-null   category\n",
      " 7   risk_type          7873 non-null   category\n",
      " 8   loss_date          7873 non-null   object  \n",
      " 9   client_type        7873 non-null   category\n",
      " 10  renewal_frequency  7873 non-null   category\n",
      " 11  primary_cause      7873 non-null   category\n",
      " 12  secondary_cause    7873 non-null   category\n",
      " 13  branch             7873 non-null   category\n",
      " 14  target             7873 non-null   float64 \n",
      "dtypes: category(11), float64(2), object(2)\n",
      "memory usage: 784.3+ KB\n"
     ]
    }
   ],
   "source": [
    "# Fill in missing values in categorical variables with the most common\n",
    "train[cat_cols] = train[cat_cols].apply(lambda x: x.fillna(x.value_counts().index[0]))\n",
    "\n",
    "# Convert\n",
    "for col in cat_cols:\n",
    "  train[col] = train[col].astype('category')\n",
    "\n",
    "# Confirm\n",
    "train.info()"
   ]
  },
  {
   "cell_type": "code",
   "execution_count": 116,
   "id": "bc062f78",
   "metadata": {},
   "outputs": [
    {
     "ename": "AttributeError",
     "evalue": "Can only use .dt accessor with datetimelike values",
     "output_type": "error",
     "traceback": [
      "\u001b[1;31m---------------------------------------------------------------------------\u001b[0m",
      "\u001b[1;31mAttributeError\u001b[0m                            Traceback (most recent call last)",
      "\u001b[1;32m<ipython-input-116-f359579dcc89>\u001b[0m in \u001b[0;36m<module>\u001b[1;34m\u001b[0m\n\u001b[0;32m      1\u001b[0m \u001b[1;31m# Extract day, month and year from the loss date column\u001b[0m\u001b[1;33m\u001b[0m\u001b[1;33m\u001b[0m\u001b[1;33m\u001b[0m\u001b[0m\n\u001b[0;32m      2\u001b[0m \u001b[1;31m# day\u001b[0m\u001b[1;33m\u001b[0m\u001b[1;33m\u001b[0m\u001b[1;33m\u001b[0m\u001b[0m\n\u001b[1;32m----> 3\u001b[1;33m \u001b[0mtrain\u001b[0m\u001b[1;33m[\u001b[0m\u001b[1;34m'loss_date_day'\u001b[0m\u001b[1;33m]\u001b[0m \u001b[1;33m=\u001b[0m \u001b[0mtrain\u001b[0m\u001b[1;33m.\u001b[0m\u001b[0mloss_date\u001b[0m\u001b[1;33m.\u001b[0m\u001b[0mdt\u001b[0m\u001b[1;33m.\u001b[0m\u001b[0mday\u001b[0m\u001b[1;33m\u001b[0m\u001b[1;33m\u001b[0m\u001b[0m\n\u001b[0m\u001b[0;32m      4\u001b[0m \u001b[1;33m\u001b[0m\u001b[0m\n\u001b[0;32m      5\u001b[0m \u001b[1;31m# month\u001b[0m\u001b[1;33m\u001b[0m\u001b[1;33m\u001b[0m\u001b[1;33m\u001b[0m\u001b[0m\n",
      "\u001b[1;32mC:\\ProgramData\\Anaconda3\\lib\\site-packages\\pandas\\core\\generic.py\u001b[0m in \u001b[0;36m__getattr__\u001b[1;34m(self, name)\u001b[0m\n\u001b[0;32m   5459\u001b[0m             \u001b[1;32mor\u001b[0m \u001b[0mname\u001b[0m \u001b[1;32min\u001b[0m \u001b[0mself\u001b[0m\u001b[1;33m.\u001b[0m\u001b[0m_accessors\u001b[0m\u001b[1;33m\u001b[0m\u001b[1;33m\u001b[0m\u001b[0m\n\u001b[0;32m   5460\u001b[0m         ):\n\u001b[1;32m-> 5461\u001b[1;33m             \u001b[1;32mreturn\u001b[0m \u001b[0mobject\u001b[0m\u001b[1;33m.\u001b[0m\u001b[0m__getattribute__\u001b[0m\u001b[1;33m(\u001b[0m\u001b[0mself\u001b[0m\u001b[1;33m,\u001b[0m \u001b[0mname\u001b[0m\u001b[1;33m)\u001b[0m\u001b[1;33m\u001b[0m\u001b[1;33m\u001b[0m\u001b[0m\n\u001b[0m\u001b[0;32m   5462\u001b[0m         \u001b[1;32melse\u001b[0m\u001b[1;33m:\u001b[0m\u001b[1;33m\u001b[0m\u001b[1;33m\u001b[0m\u001b[0m\n\u001b[0;32m   5463\u001b[0m             \u001b[1;32mif\u001b[0m \u001b[0mself\u001b[0m\u001b[1;33m.\u001b[0m\u001b[0m_info_axis\u001b[0m\u001b[1;33m.\u001b[0m\u001b[0m_can_hold_identifiers_and_holds_name\u001b[0m\u001b[1;33m(\u001b[0m\u001b[0mname\u001b[0m\u001b[1;33m)\u001b[0m\u001b[1;33m:\u001b[0m\u001b[1;33m\u001b[0m\u001b[1;33m\u001b[0m\u001b[0m\n",
      "\u001b[1;32mC:\\ProgramData\\Anaconda3\\lib\\site-packages\\pandas\\core\\accessor.py\u001b[0m in \u001b[0;36m__get__\u001b[1;34m(self, obj, cls)\u001b[0m\n\u001b[0;32m    178\u001b[0m             \u001b[1;31m# we're accessing the attribute of the class, i.e., Dataset.geo\u001b[0m\u001b[1;33m\u001b[0m\u001b[1;33m\u001b[0m\u001b[1;33m\u001b[0m\u001b[0m\n\u001b[0;32m    179\u001b[0m             \u001b[1;32mreturn\u001b[0m \u001b[0mself\u001b[0m\u001b[1;33m.\u001b[0m\u001b[0m_accessor\u001b[0m\u001b[1;33m\u001b[0m\u001b[1;33m\u001b[0m\u001b[0m\n\u001b[1;32m--> 180\u001b[1;33m         \u001b[0maccessor_obj\u001b[0m \u001b[1;33m=\u001b[0m \u001b[0mself\u001b[0m\u001b[1;33m.\u001b[0m\u001b[0m_accessor\u001b[0m\u001b[1;33m(\u001b[0m\u001b[0mobj\u001b[0m\u001b[1;33m)\u001b[0m\u001b[1;33m\u001b[0m\u001b[1;33m\u001b[0m\u001b[0m\n\u001b[0m\u001b[0;32m    181\u001b[0m         \u001b[1;31m# Replace the property with the accessor object. Inspired by:\u001b[0m\u001b[1;33m\u001b[0m\u001b[1;33m\u001b[0m\u001b[1;33m\u001b[0m\u001b[0m\n\u001b[0;32m    182\u001b[0m         \u001b[1;31m# https://www.pydanny.com/cached-property.html\u001b[0m\u001b[1;33m\u001b[0m\u001b[1;33m\u001b[0m\u001b[1;33m\u001b[0m\u001b[0m\n",
      "\u001b[1;32mC:\\ProgramData\\Anaconda3\\lib\\site-packages\\pandas\\core\\indexes\\accessors.py\u001b[0m in \u001b[0;36m__new__\u001b[1;34m(cls, data)\u001b[0m\n\u001b[0;32m    492\u001b[0m             \u001b[1;32mreturn\u001b[0m \u001b[0mPeriodProperties\u001b[0m\u001b[1;33m(\u001b[0m\u001b[0mdata\u001b[0m\u001b[1;33m,\u001b[0m \u001b[0morig\u001b[0m\u001b[1;33m)\u001b[0m\u001b[1;33m\u001b[0m\u001b[1;33m\u001b[0m\u001b[0m\n\u001b[0;32m    493\u001b[0m \u001b[1;33m\u001b[0m\u001b[0m\n\u001b[1;32m--> 494\u001b[1;33m         \u001b[1;32mraise\u001b[0m \u001b[0mAttributeError\u001b[0m\u001b[1;33m(\u001b[0m\u001b[1;34m\"Can only use .dt accessor with datetimelike values\"\u001b[0m\u001b[1;33m)\u001b[0m\u001b[1;33m\u001b[0m\u001b[1;33m\u001b[0m\u001b[0m\n\u001b[0m",
      "\u001b[1;31mAttributeError\u001b[0m: Can only use .dt accessor with datetimelike values"
     ]
    }
   ],
   "source": [
    "# Extract day, month and year from the loss date column\n",
    "# day\n",
    "train['loss_date_day'] = train.loss_date.dt.day\n",
    "\n",
    "# month\n",
    "train['loss_date_month'] = train.loss_date.dt.month\n",
    " \n",
    "# year\n",
    "train['loss_date_year'] = train.loss_date.dt.year\n",
    "\n",
    "# Preview engineered date features\n",
    "train[['loss_date', 'loss_date_day', 'loss_date_month', 'loss_date_year']].head()# Extract day, month and year from the loss date column\n",
    "# day\n",
    "train['loss_date_day'] = train.loss_date.dt.day\n",
    "\n",
    "# month\n",
    "train['loss_date_month'] = train.loss_date.dt.month\n",
    " \n",
    "# year\n",
    "train['loss_date_year'] = train.loss_date.dt.year\n",
    "\n",
    "# Preview engineered date features\n",
    "train[['loss_date', 'loss_date_day', 'loss_date_month', 'loss_date_year']].head()"
   ]
  },
  {
   "cell_type": "raw",
   "id": "ea0f74bd",
   "metadata": {},
   "source": [
    "train['loss_date_month']"
   ]
  },
  {
   "cell_type": "code",
   "execution_count": 117,
   "id": "59248b03",
   "metadata": {},
   "outputs": [
    {
     "ename": "ValueError",
     "evalue": "Could not interpret input 'loss_date_month'",
     "output_type": "error",
     "traceback": [
      "\u001b[1;31m---------------------------------------------------------------------------\u001b[0m",
      "\u001b[1;31mValueError\u001b[0m                                Traceback (most recent call last)",
      "\u001b[1;32m<ipython-input-117-a671064ce314>\u001b[0m in \u001b[0;36m<module>\u001b[1;34m\u001b[0m\n\u001b[0;32m      1\u001b[0m \u001b[1;31m# Loss month countplot\u001b[0m\u001b[1;33m\u001b[0m\u001b[1;33m\u001b[0m\u001b[1;33m\u001b[0m\u001b[0m\n\u001b[0;32m      2\u001b[0m \u001b[0mplt\u001b[0m\u001b[1;33m.\u001b[0m\u001b[0mfigure\u001b[0m\u001b[1;33m(\u001b[0m\u001b[0mfigsize\u001b[0m \u001b[1;33m=\u001b[0m \u001b[1;33m(\u001b[0m\u001b[1;36m14\u001b[0m\u001b[1;33m,\u001b[0m \u001b[1;36m7\u001b[0m\u001b[1;33m)\u001b[0m\u001b[1;33m)\u001b[0m\u001b[1;33m\u001b[0m\u001b[1;33m\u001b[0m\u001b[0m\n\u001b[1;32m----> 3\u001b[1;33m \u001b[0msns\u001b[0m\u001b[1;33m.\u001b[0m\u001b[0mcountplot\u001b[0m\u001b[1;33m(\u001b[0m\u001b[0mx\u001b[0m \u001b[1;33m=\u001b[0m \u001b[1;34m'loss_date_month'\u001b[0m\u001b[1;33m,\u001b[0m \u001b[0mdata\u001b[0m \u001b[1;33m=\u001b[0m \u001b[0mtrain\u001b[0m\u001b[1;33m)\u001b[0m\u001b[1;33m\u001b[0m\u001b[1;33m\u001b[0m\u001b[0m\n\u001b[0m\u001b[0;32m      4\u001b[0m \u001b[0mplt\u001b[0m\u001b[1;33m.\u001b[0m\u001b[0mtitle\u001b[0m\u001b[1;33m(\u001b[0m\u001b[1;34m'Loss month count plot'\u001b[0m\u001b[1;33m)\u001b[0m\u001b[1;33m\u001b[0m\u001b[1;33m\u001b[0m\u001b[0m\n\u001b[0;32m      5\u001b[0m \u001b[0mplt\u001b[0m\u001b[1;33m.\u001b[0m\u001b[0mshow\u001b[0m\u001b[1;33m(\u001b[0m\u001b[1;33m)\u001b[0m\u001b[1;33m\u001b[0m\u001b[1;33m\u001b[0m\u001b[0m\n",
      "\u001b[1;32mC:\\ProgramData\\Anaconda3\\lib\\site-packages\\seaborn\\_decorators.py\u001b[0m in \u001b[0;36minner_f\u001b[1;34m(*args, **kwargs)\u001b[0m\n\u001b[0;32m     44\u001b[0m             )\n\u001b[0;32m     45\u001b[0m         \u001b[0mkwargs\u001b[0m\u001b[1;33m.\u001b[0m\u001b[0mupdate\u001b[0m\u001b[1;33m(\u001b[0m\u001b[1;33m{\u001b[0m\u001b[0mk\u001b[0m\u001b[1;33m:\u001b[0m \u001b[0marg\u001b[0m \u001b[1;32mfor\u001b[0m \u001b[0mk\u001b[0m\u001b[1;33m,\u001b[0m \u001b[0marg\u001b[0m \u001b[1;32min\u001b[0m \u001b[0mzip\u001b[0m\u001b[1;33m(\u001b[0m\u001b[0msig\u001b[0m\u001b[1;33m.\u001b[0m\u001b[0mparameters\u001b[0m\u001b[1;33m,\u001b[0m \u001b[0margs\u001b[0m\u001b[1;33m)\u001b[0m\u001b[1;33m}\u001b[0m\u001b[1;33m)\u001b[0m\u001b[1;33m\u001b[0m\u001b[1;33m\u001b[0m\u001b[0m\n\u001b[1;32m---> 46\u001b[1;33m         \u001b[1;32mreturn\u001b[0m \u001b[0mf\u001b[0m\u001b[1;33m(\u001b[0m\u001b[1;33m**\u001b[0m\u001b[0mkwargs\u001b[0m\u001b[1;33m)\u001b[0m\u001b[1;33m\u001b[0m\u001b[1;33m\u001b[0m\u001b[0m\n\u001b[0m\u001b[0;32m     47\u001b[0m     \u001b[1;32mreturn\u001b[0m \u001b[0minner_f\u001b[0m\u001b[1;33m\u001b[0m\u001b[1;33m\u001b[0m\u001b[0m\n\u001b[0;32m     48\u001b[0m \u001b[1;33m\u001b[0m\u001b[0m\n",
      "\u001b[1;32mC:\\ProgramData\\Anaconda3\\lib\\site-packages\\seaborn\\categorical.py\u001b[0m in \u001b[0;36mcountplot\u001b[1;34m(x, y, hue, data, order, hue_order, orient, color, palette, saturation, dodge, ax, **kwargs)\u001b[0m\n\u001b[0;32m   3593\u001b[0m         \u001b[1;32mraise\u001b[0m \u001b[0mValueError\u001b[0m\u001b[1;33m(\u001b[0m\u001b[1;34m\"Cannot pass values for both `x` and `y`\"\u001b[0m\u001b[1;33m)\u001b[0m\u001b[1;33m\u001b[0m\u001b[1;33m\u001b[0m\u001b[0m\n\u001b[0;32m   3594\u001b[0m \u001b[1;33m\u001b[0m\u001b[0m\n\u001b[1;32m-> 3595\u001b[1;33m     plotter = _CountPlotter(\n\u001b[0m\u001b[0;32m   3596\u001b[0m         \u001b[0mx\u001b[0m\u001b[1;33m,\u001b[0m \u001b[0my\u001b[0m\u001b[1;33m,\u001b[0m \u001b[0mhue\u001b[0m\u001b[1;33m,\u001b[0m \u001b[0mdata\u001b[0m\u001b[1;33m,\u001b[0m \u001b[0morder\u001b[0m\u001b[1;33m,\u001b[0m \u001b[0mhue_order\u001b[0m\u001b[1;33m,\u001b[0m\u001b[1;33m\u001b[0m\u001b[1;33m\u001b[0m\u001b[0m\n\u001b[0;32m   3597\u001b[0m         \u001b[0mestimator\u001b[0m\u001b[1;33m,\u001b[0m \u001b[0mci\u001b[0m\u001b[1;33m,\u001b[0m \u001b[0mn_boot\u001b[0m\u001b[1;33m,\u001b[0m \u001b[0munits\u001b[0m\u001b[1;33m,\u001b[0m \u001b[0mseed\u001b[0m\u001b[1;33m,\u001b[0m\u001b[1;33m\u001b[0m\u001b[1;33m\u001b[0m\u001b[0m\n",
      "\u001b[1;32mC:\\ProgramData\\Anaconda3\\lib\\site-packages\\seaborn\\categorical.py\u001b[0m in \u001b[0;36m__init__\u001b[1;34m(self, x, y, hue, data, order, hue_order, estimator, ci, n_boot, units, seed, orient, color, palette, saturation, errcolor, errwidth, capsize, dodge)\u001b[0m\n\u001b[0;32m   1582\u001b[0m                  errwidth, capsize, dodge):\n\u001b[0;32m   1583\u001b[0m         \u001b[1;34m\"\"\"Initialize the plotter.\"\"\"\u001b[0m\u001b[1;33m\u001b[0m\u001b[1;33m\u001b[0m\u001b[0m\n\u001b[1;32m-> 1584\u001b[1;33m         self.establish_variables(x, y, hue, data, orient,\n\u001b[0m\u001b[0;32m   1585\u001b[0m                                  order, hue_order, units)\n\u001b[0;32m   1586\u001b[0m         \u001b[0mself\u001b[0m\u001b[1;33m.\u001b[0m\u001b[0mestablish_colors\u001b[0m\u001b[1;33m(\u001b[0m\u001b[0mcolor\u001b[0m\u001b[1;33m,\u001b[0m \u001b[0mpalette\u001b[0m\u001b[1;33m,\u001b[0m \u001b[0msaturation\u001b[0m\u001b[1;33m)\u001b[0m\u001b[1;33m\u001b[0m\u001b[1;33m\u001b[0m\u001b[0m\n",
      "\u001b[1;32mC:\\ProgramData\\Anaconda3\\lib\\site-packages\\seaborn\\categorical.py\u001b[0m in \u001b[0;36mestablish_variables\u001b[1;34m(self, x, y, hue, data, orient, order, hue_order, units)\u001b[0m\n\u001b[0;32m    151\u001b[0m                 \u001b[1;32mif\u001b[0m \u001b[0misinstance\u001b[0m\u001b[1;33m(\u001b[0m\u001b[0mvar\u001b[0m\u001b[1;33m,\u001b[0m \u001b[0mstr\u001b[0m\u001b[1;33m)\u001b[0m\u001b[1;33m:\u001b[0m\u001b[1;33m\u001b[0m\u001b[1;33m\u001b[0m\u001b[0m\n\u001b[0;32m    152\u001b[0m                     \u001b[0merr\u001b[0m \u001b[1;33m=\u001b[0m \u001b[1;34m\"Could not interpret input '{}'\"\u001b[0m\u001b[1;33m.\u001b[0m\u001b[0mformat\u001b[0m\u001b[1;33m(\u001b[0m\u001b[0mvar\u001b[0m\u001b[1;33m)\u001b[0m\u001b[1;33m\u001b[0m\u001b[1;33m\u001b[0m\u001b[0m\n\u001b[1;32m--> 153\u001b[1;33m                     \u001b[1;32mraise\u001b[0m \u001b[0mValueError\u001b[0m\u001b[1;33m(\u001b[0m\u001b[0merr\u001b[0m\u001b[1;33m)\u001b[0m\u001b[1;33m\u001b[0m\u001b[1;33m\u001b[0m\u001b[0m\n\u001b[0m\u001b[0;32m    154\u001b[0m \u001b[1;33m\u001b[0m\u001b[0m\n\u001b[0;32m    155\u001b[0m             \u001b[1;31m# Figure out the plotting orientation\u001b[0m\u001b[1;33m\u001b[0m\u001b[1;33m\u001b[0m\u001b[1;33m\u001b[0m\u001b[0m\n",
      "\u001b[1;31mValueError\u001b[0m: Could not interpret input 'loss_date_month'"
     ]
    },
    {
     "data": {
      "text/plain": [
       "<Figure size 1008x504 with 0 Axes>"
      ]
     },
     "metadata": {},
     "output_type": "display_data"
    }
   ],
   "source": [
    "# Loss month countplot\n",
    "plt.figure(figsize = (14, 7))\n",
    "sns.countplot(x = 'loss_date_month', data = train)\n",
    "plt.title('Loss month count plot')\n",
    "plt.show()"
   ]
  },
  {
   "cell_type": "code",
   "execution_count": null,
   "id": "121cf80a",
   "metadata": {
    "scrolled": true
   },
   "outputs": [],
   "source": [
    "# Loss year countplot\n",
    "plt.figure(figsize = (10, 5))\n",
    "sns.countplot(x = 'loss_date_year', data = train)\n",
    "plt.title('Loss year count plot')\n",
    "plt.show()"
   ]
  },
  {
   "cell_type": "code",
   "execution_count": null,
   "id": "18000214",
   "metadata": {},
   "outputs": [],
   "source": [
    "plt.figure(figsize = (14, 5))\n",
    "sns.boxplot(x = 'branch', y = 'sum_insured', data = train)\n",
    "plt.title('Branch Vs Suminsured boxplots')\n",
    "plt.show()"
   ]
  },
  {
   "cell_type": "code",
   "execution_count": null,
   "id": "7b1fc783",
   "metadata": {},
   "outputs": [],
   "source": [
    "# Label encode categorical variables\n",
    "for col in cat_cols:\n",
    "  # Instantiate Labelencoder\n",
    "  le = LabelEncoder()\n",
    "  train[col] = le.fit_transform(train[col])\n",
    "\n",
    "# Preview engineered train dataset\n",
    "train.head()\n"
   ]
  },
  {
   "cell_type": "markdown",
   "id": "d5424583",
   "metadata": {},
   "source": [
    "Preproccessing test data"
   ]
  },
  {
   "cell_type": "code",
   "execution_count": null,
   "id": "731724fd",
   "metadata": {
    "scrolled": true
   },
   "outputs": [],
   "source": [
    "# Convert datetime variables to datetime objects\n",
    "test.loss_date = pd.to_datetime(test.loss_date, errors='coerce')\n",
    "\n",
    "# Fill in missing values in categorical variables with the most common\n",
    "test[cat_cols] = test[cat_cols].apply(lambda x: x.fillna(x.value_counts().index[0]))\n",
    "\n",
    "# Convert\n",
    "for col in cat_cols:\n",
    "  test[col] = test[col].astype('category')\n",
    "\n",
    "# Extract day, month and year from the loss date column\n",
    "test['loss_date_day'] = test.loss_date.dt.day #day\n",
    "\n",
    "test['loss_date_month'] = test.loss_date.dt.month #month\n",
    " \n",
    "test['loss_date_year'] = test.loss_date.dt.year #year\n",
    "\n",
    "# Label encode categorical variables\n",
    "for col in cat_cols:\n",
    "  # Instantiate Labelencoder\n",
    "  le = LabelEncoder()\n",
    "  test[col] = le.fit_transform(test[col])\n",
    "\n",
    "# Preview engineered test dataset\n",
    "test.head()"
   ]
  },
  {
   "cell_type": "code",
   "execution_count": 60,
   "id": "dd3c849f",
   "metadata": {},
   "outputs": [],
   "source": [
    "from sklearn.preprocessing import StandardScaler\n",
    "from sklearn.preprocessing import "
   ]
  },
  {
   "cell_type": "code",
   "execution_count": 61,
   "id": "1af358e4",
   "metadata": {},
   "outputs": [],
   "source": [
    "S = StandardScaler()"
   ]
  },
  {
   "cell_type": "code",
   "execution_count": 62,
   "id": "c2421594",
   "metadata": {},
   "outputs": [
    {
     "ename": "TypeError",
     "evalue": "invalid type promotion",
     "output_type": "error",
     "traceback": [
      "\u001b[1;31m---------------------------------------------------------------------------\u001b[0m",
      "\u001b[1;31mTypeError\u001b[0m                                 Traceback (most recent call last)",
      "\u001b[1;32m<ipython-input-62-1ed1313216ab>\u001b[0m in \u001b[0;36m<module>\u001b[1;34m\u001b[0m\n\u001b[1;32m----> 1\u001b[1;33m \u001b[0mS\u001b[0m\u001b[1;33m.\u001b[0m\u001b[0mfit_transform\u001b[0m\u001b[1;33m(\u001b[0m\u001b[0mtest\u001b[0m\u001b[1;33m)\u001b[0m\u001b[1;33m\u001b[0m\u001b[1;33m\u001b[0m\u001b[0m\n\u001b[0m",
      "\u001b[1;32mC:\\ProgramData\\Anaconda3\\lib\\site-packages\\sklearn\\base.py\u001b[0m in \u001b[0;36mfit_transform\u001b[1;34m(self, X, y, **fit_params)\u001b[0m\n\u001b[0;32m    688\u001b[0m         \u001b[1;32mif\u001b[0m \u001b[0my\u001b[0m \u001b[1;32mis\u001b[0m \u001b[1;32mNone\u001b[0m\u001b[1;33m:\u001b[0m\u001b[1;33m\u001b[0m\u001b[1;33m\u001b[0m\u001b[0m\n\u001b[0;32m    689\u001b[0m             \u001b[1;31m# fit method of arity 1 (unsupervised transformation)\u001b[0m\u001b[1;33m\u001b[0m\u001b[1;33m\u001b[0m\u001b[1;33m\u001b[0m\u001b[0m\n\u001b[1;32m--> 690\u001b[1;33m             \u001b[1;32mreturn\u001b[0m \u001b[0mself\u001b[0m\u001b[1;33m.\u001b[0m\u001b[0mfit\u001b[0m\u001b[1;33m(\u001b[0m\u001b[0mX\u001b[0m\u001b[1;33m,\u001b[0m \u001b[1;33m**\u001b[0m\u001b[0mfit_params\u001b[0m\u001b[1;33m)\u001b[0m\u001b[1;33m.\u001b[0m\u001b[0mtransform\u001b[0m\u001b[1;33m(\u001b[0m\u001b[0mX\u001b[0m\u001b[1;33m)\u001b[0m\u001b[1;33m\u001b[0m\u001b[1;33m\u001b[0m\u001b[0m\n\u001b[0m\u001b[0;32m    691\u001b[0m         \u001b[1;32melse\u001b[0m\u001b[1;33m:\u001b[0m\u001b[1;33m\u001b[0m\u001b[1;33m\u001b[0m\u001b[0m\n\u001b[0;32m    692\u001b[0m             \u001b[1;31m# fit method of arity 2 (supervised transformation)\u001b[0m\u001b[1;33m\u001b[0m\u001b[1;33m\u001b[0m\u001b[1;33m\u001b[0m\u001b[0m\n",
      "\u001b[1;32mC:\\ProgramData\\Anaconda3\\lib\\site-packages\\sklearn\\preprocessing\\_data.py\u001b[0m in \u001b[0;36mfit\u001b[1;34m(self, X, y)\u001b[0m\n\u001b[0;32m    665\u001b[0m         \u001b[1;31m# Reset internal state before fitting\u001b[0m\u001b[1;33m\u001b[0m\u001b[1;33m\u001b[0m\u001b[1;33m\u001b[0m\u001b[0m\n\u001b[0;32m    666\u001b[0m         \u001b[0mself\u001b[0m\u001b[1;33m.\u001b[0m\u001b[0m_reset\u001b[0m\u001b[1;33m(\u001b[0m\u001b[1;33m)\u001b[0m\u001b[1;33m\u001b[0m\u001b[1;33m\u001b[0m\u001b[0m\n\u001b[1;32m--> 667\u001b[1;33m         \u001b[1;32mreturn\u001b[0m \u001b[0mself\u001b[0m\u001b[1;33m.\u001b[0m\u001b[0mpartial_fit\u001b[0m\u001b[1;33m(\u001b[0m\u001b[0mX\u001b[0m\u001b[1;33m,\u001b[0m \u001b[0my\u001b[0m\u001b[1;33m)\u001b[0m\u001b[1;33m\u001b[0m\u001b[1;33m\u001b[0m\u001b[0m\n\u001b[0m\u001b[0;32m    668\u001b[0m \u001b[1;33m\u001b[0m\u001b[0m\n\u001b[0;32m    669\u001b[0m     \u001b[1;32mdef\u001b[0m \u001b[0mpartial_fit\u001b[0m\u001b[1;33m(\u001b[0m\u001b[0mself\u001b[0m\u001b[1;33m,\u001b[0m \u001b[0mX\u001b[0m\u001b[1;33m,\u001b[0m \u001b[0my\u001b[0m\u001b[1;33m=\u001b[0m\u001b[1;32mNone\u001b[0m\u001b[1;33m)\u001b[0m\u001b[1;33m:\u001b[0m\u001b[1;33m\u001b[0m\u001b[1;33m\u001b[0m\u001b[0m\n",
      "\u001b[1;32mC:\\ProgramData\\Anaconda3\\lib\\site-packages\\sklearn\\preprocessing\\_data.py\u001b[0m in \u001b[0;36mpartial_fit\u001b[1;34m(self, X, y)\u001b[0m\n\u001b[0;32m    694\u001b[0m             \u001b[0mTransformer\u001b[0m \u001b[0minstance\u001b[0m\u001b[1;33m.\u001b[0m\u001b[1;33m\u001b[0m\u001b[1;33m\u001b[0m\u001b[0m\n\u001b[0;32m    695\u001b[0m         \"\"\"\n\u001b[1;32m--> 696\u001b[1;33m         X = self._validate_data(X, accept_sparse=('csr', 'csc'),\n\u001b[0m\u001b[0;32m    697\u001b[0m                                 \u001b[0mestimator\u001b[0m\u001b[1;33m=\u001b[0m\u001b[0mself\u001b[0m\u001b[1;33m,\u001b[0m \u001b[0mdtype\u001b[0m\u001b[1;33m=\u001b[0m\u001b[0mFLOAT_DTYPES\u001b[0m\u001b[1;33m,\u001b[0m\u001b[1;33m\u001b[0m\u001b[1;33m\u001b[0m\u001b[0m\n\u001b[0;32m    698\u001b[0m                                 force_all_finite='allow-nan')\n",
      "\u001b[1;32mC:\\ProgramData\\Anaconda3\\lib\\site-packages\\sklearn\\base.py\u001b[0m in \u001b[0;36m_validate_data\u001b[1;34m(self, X, y, reset, validate_separately, **check_params)\u001b[0m\n\u001b[0;32m    418\u001b[0m                     \u001b[1;34mf\"requires y to be passed, but the target y is None.\"\u001b[0m\u001b[1;33m\u001b[0m\u001b[1;33m\u001b[0m\u001b[0m\n\u001b[0;32m    419\u001b[0m                 )\n\u001b[1;32m--> 420\u001b[1;33m             \u001b[0mX\u001b[0m \u001b[1;33m=\u001b[0m \u001b[0mcheck_array\u001b[0m\u001b[1;33m(\u001b[0m\u001b[0mX\u001b[0m\u001b[1;33m,\u001b[0m \u001b[1;33m**\u001b[0m\u001b[0mcheck_params\u001b[0m\u001b[1;33m)\u001b[0m\u001b[1;33m\u001b[0m\u001b[1;33m\u001b[0m\u001b[0m\n\u001b[0m\u001b[0;32m    421\u001b[0m             \u001b[0mout\u001b[0m \u001b[1;33m=\u001b[0m \u001b[0mX\u001b[0m\u001b[1;33m\u001b[0m\u001b[1;33m\u001b[0m\u001b[0m\n\u001b[0;32m    422\u001b[0m         \u001b[1;32melse\u001b[0m\u001b[1;33m:\u001b[0m\u001b[1;33m\u001b[0m\u001b[1;33m\u001b[0m\u001b[0m\n",
      "\u001b[1;32mC:\\ProgramData\\Anaconda3\\lib\\site-packages\\sklearn\\utils\\validation.py\u001b[0m in \u001b[0;36minner_f\u001b[1;34m(*args, **kwargs)\u001b[0m\n\u001b[0;32m     71\u001b[0m                           FutureWarning)\n\u001b[0;32m     72\u001b[0m         \u001b[0mkwargs\u001b[0m\u001b[1;33m.\u001b[0m\u001b[0mupdate\u001b[0m\u001b[1;33m(\u001b[0m\u001b[1;33m{\u001b[0m\u001b[0mk\u001b[0m\u001b[1;33m:\u001b[0m \u001b[0marg\u001b[0m \u001b[1;32mfor\u001b[0m \u001b[0mk\u001b[0m\u001b[1;33m,\u001b[0m \u001b[0marg\u001b[0m \u001b[1;32min\u001b[0m \u001b[0mzip\u001b[0m\u001b[1;33m(\u001b[0m\u001b[0msig\u001b[0m\u001b[1;33m.\u001b[0m\u001b[0mparameters\u001b[0m\u001b[1;33m,\u001b[0m \u001b[0margs\u001b[0m\u001b[1;33m)\u001b[0m\u001b[1;33m}\u001b[0m\u001b[1;33m)\u001b[0m\u001b[1;33m\u001b[0m\u001b[1;33m\u001b[0m\u001b[0m\n\u001b[1;32m---> 73\u001b[1;33m         \u001b[1;32mreturn\u001b[0m \u001b[0mf\u001b[0m\u001b[1;33m(\u001b[0m\u001b[1;33m**\u001b[0m\u001b[0mkwargs\u001b[0m\u001b[1;33m)\u001b[0m\u001b[1;33m\u001b[0m\u001b[1;33m\u001b[0m\u001b[0m\n\u001b[0m\u001b[0;32m     74\u001b[0m     \u001b[1;32mreturn\u001b[0m \u001b[0minner_f\u001b[0m\u001b[1;33m\u001b[0m\u001b[1;33m\u001b[0m\u001b[0m\n\u001b[0;32m     75\u001b[0m \u001b[1;33m\u001b[0m\u001b[0m\n",
      "\u001b[1;32mC:\\ProgramData\\Anaconda3\\lib\\site-packages\\sklearn\\utils\\validation.py\u001b[0m in \u001b[0;36mcheck_array\u001b[1;34m(array, accept_sparse, accept_large_sparse, dtype, order, copy, force_all_finite, ensure_2d, allow_nd, ensure_min_samples, ensure_min_features, estimator)\u001b[0m\n\u001b[0;32m    532\u001b[0m \u001b[1;33m\u001b[0m\u001b[0m\n\u001b[0;32m    533\u001b[0m         \u001b[1;32mif\u001b[0m \u001b[0mall\u001b[0m\u001b[1;33m(\u001b[0m\u001b[0misinstance\u001b[0m\u001b[1;33m(\u001b[0m\u001b[0mdtype\u001b[0m\u001b[1;33m,\u001b[0m \u001b[0mnp\u001b[0m\u001b[1;33m.\u001b[0m\u001b[0mdtype\u001b[0m\u001b[1;33m)\u001b[0m \u001b[1;32mfor\u001b[0m \u001b[0mdtype\u001b[0m \u001b[1;32min\u001b[0m \u001b[0mdtypes_orig\u001b[0m\u001b[1;33m)\u001b[0m\u001b[1;33m:\u001b[0m\u001b[1;33m\u001b[0m\u001b[1;33m\u001b[0m\u001b[0m\n\u001b[1;32m--> 534\u001b[1;33m             \u001b[0mdtype_orig\u001b[0m \u001b[1;33m=\u001b[0m \u001b[0mnp\u001b[0m\u001b[1;33m.\u001b[0m\u001b[0mresult_type\u001b[0m\u001b[1;33m(\u001b[0m\u001b[1;33m*\u001b[0m\u001b[0mdtypes_orig\u001b[0m\u001b[1;33m)\u001b[0m\u001b[1;33m\u001b[0m\u001b[1;33m\u001b[0m\u001b[0m\n\u001b[0m\u001b[0;32m    535\u001b[0m \u001b[1;33m\u001b[0m\u001b[0m\n\u001b[0;32m    536\u001b[0m     \u001b[1;32mif\u001b[0m \u001b[0mdtype_numeric\u001b[0m\u001b[1;33m:\u001b[0m\u001b[1;33m\u001b[0m\u001b[1;33m\u001b[0m\u001b[0m\n",
      "\u001b[1;32m<__array_function__ internals>\u001b[0m in \u001b[0;36mresult_type\u001b[1;34m(*args, **kwargs)\u001b[0m\n",
      "\u001b[1;31mTypeError\u001b[0m: invalid type promotion"
     ]
    }
   ],
   "source": [
    "S.fit_transform(test)"
   ]
  },
  {
   "cell_type": "code",
   "execution_count": null,
   "id": "60d0d642",
   "metadata": {},
   "outputs": [],
   "source": [
    "test.drop(\"claim_id\",axis = 0)"
   ]
  },
  {
   "cell_type": "code",
   "execution_count": null,
   "id": "3ce3c79f",
   "metadata": {},
   "outputs": [],
   "source": [
    "corr_test = train.copy()\n",
    "correlation = corr_test.corr()\n",
    "correlation['target'].sort_values(ascending = False)"
   ]
  },
  {
   "cell_type": "code",
   "execution_count": null,
   "id": "4654bf0d",
   "metadata": {},
   "outputs": [],
   "source": [
    "main_cols = train.columns.difference(['claim_id', 'loss_date', 'target','client_type','risk_type','policy_number','claim_number','branch','agent','sum_insured','secondary_cause','loss_date_day']).tolist()"
   ]
  },
  {
   "cell_type": "code",
   "execution_count": null,
   "id": "6350620a",
   "metadata": {},
   "outputs": [],
   "source": [
    "X = train[main_cols]\n",
    "y = train.target"
   ]
  },
  {
   "cell_type": "code",
   "execution_count": null,
   "id": "57fe7cf0",
   "metadata": {},
   "outputs": [],
   "source": [
    "X"
   ]
  },
  {
   "cell_type": "code",
   "execution_count": null,
   "id": "72015d8c",
   "metadata": {},
   "outputs": [],
   "source": [
    "from sklearn.preprocessing import StandardScaler\n",
    "scale = StandardScaler()\n",
    "scaled = scale.fit_transform(X)"
   ]
  },
  {
   "cell_type": "code",
   "execution_count": null,
   "id": "ac6cd9df",
   "metadata": {},
   "outputs": [],
   "source": [
    "scaled"
   ]
  },
  {
   "cell_type": "code",
   "execution_count": null,
   "id": "af80b132",
   "metadata": {},
   "outputs": [],
   "source": [
    "column_header = ['loss_date_month','loss_date_year','product','agent','class_of_business','renewal_frequency']"
   ]
  },
  {
   "cell_type": "code",
   "execution_count": null,
   "id": "64cae84c",
   "metadata": {},
   "outputs": [],
   "source": [
    "x = pd.DataFrame(scaled,columns =column_header )"
   ]
  },
  {
   "cell_type": "code",
   "execution_count": null,
   "id": "f35199a2",
   "metadata": {},
   "outputs": [],
   "source": [
    "x"
   ]
  },
  {
   "cell_type": "code",
   "execution_count": null,
   "id": "18589e10",
   "metadata": {},
   "outputs": [],
   "source": [
    "corr_test = x.copy()\n",
    "correlation = corr_test.corr()\n",
    "correlation['target'].sort_values(ascending = False)"
   ]
  },
  {
   "cell_type": "markdown",
   "id": "3c053acb",
   "metadata": {},
   "source": [
    "\n",
    "Modelling "
   ]
  },
  {
   "cell_type": "code",
   "execution_count": null,
   "id": "6ddb35a3",
   "metadata": {},
   "outputs": [],
   "source": [
    "# Select main columns to be used in training\n",
    "\n",
    "\n",
    "\n",
    "# Split data into train and test sets\n",
    "X_train, X_test, y_train, y_test = train_test_split(x,y,test_size=0.3, random_state=0)\n",
    "\n",
    "# Train model\n",
    "model = LinearRegression()\n",
    "model.fit(X_train, y_train)\n",
    "\n",
    "# Make predictions\n",
    "y_pred = model.predict(X_test)\n",
    "\n",
    "# Check the MAE score of the model\n",
    "print(f'LinearRegression MAE score on the X_test is: {mean_absolute_error(y_test, y_pred)}')"
   ]
  },
  {
   "cell_type": "code",
   "execution_count": null,
   "id": "6f3e2c2c",
   "metadata": {},
   "outputs": [],
   "source": []
  },
  {
   "cell_type": "code",
   "execution_count": null,
   "id": "5f327f2d",
   "metadata": {},
   "outputs": [],
   "source": [
    "X.info()"
   ]
  },
  {
   "cell_type": "code",
   "execution_count": null,
   "id": "5f382633",
   "metadata": {},
   "outputs": [],
   "source": []
  },
  {
   "cell_type": "code",
   "execution_count": null,
   "id": "ca758eab",
   "metadata": {},
   "outputs": [],
   "source": [
    "# Make prediction on the test set\n",
    "test_df = test[main_cols]\n",
    "predictions = model.predict(test_df)\n",
    "\n",
    "# # Create a submission file\n",
    "sub_file = samplesubmission.copy()\n",
    "sub_file.target = predictions\n",
    "\n",
    "# Check the distribution of your predictions\n",
    "plt.figure(figsize=(12, 6))\n",
    "sns.boxplot(sub_file.target)\n",
    "plt.title('Predictions Data Distribution');"
   ]
  },
  {
   "cell_type": "code",
   "execution_count": null,
   "id": "06a9e28d",
   "metadata": {},
   "outputs": [],
   "source": [
    "# Preview the sub_file\n",
    "sub_file.head()"
   ]
  },
  {
   "cell_type": "code",
   "execution_count": null,
   "id": "5b0de62f",
   "metadata": {},
   "outputs": [],
   "source": [
    "# Write to csv file to submit to Zindi\n",
    "sub_file.to_csv(\"Baseline.csv\", index = False)"
   ]
  },
  {
   "cell_type": "code",
   "execution_count": null,
   "id": "260f77bd",
   "metadata": {},
   "outputs": [],
   "source": []
  },
  {
   "cell_type": "code",
   "execution_count": null,
   "id": "f5a80fbf",
   "metadata": {},
   "outputs": [],
   "source": []
  },
  {
   "cell_type": "code",
   "execution_count": null,
   "id": "9db1eb2e",
   "metadata": {},
   "outputs": [],
   "source": []
  },
  {
   "cell_type": "code",
   "execution_count": null,
   "id": "46b693c3",
   "metadata": {},
   "outputs": [],
   "source": []
  },
  {
   "cell_type": "code",
   "execution_count": null,
   "id": "595e46df",
   "metadata": {},
   "outputs": [],
   "source": []
  },
  {
   "cell_type": "code",
   "execution_count": null,
   "id": "b64c2ee5",
   "metadata": {},
   "outputs": [],
   "source": []
  },
  {
   "cell_type": "code",
   "execution_count": null,
   "id": "068e8be4",
   "metadata": {},
   "outputs": [],
   "source": []
  }
 ],
 "metadata": {
  "kernelspec": {
   "display_name": "Python 3",
   "language": "python",
   "name": "python3"
  },
  "language_info": {
   "codemirror_mode": {
    "name": "ipython",
    "version": 3
   },
   "file_extension": ".py",
   "mimetype": "text/x-python",
   "name": "python",
   "nbconvert_exporter": "python",
   "pygments_lexer": "ipython3",
   "version": "3.8.8"
  }
 },
 "nbformat": 4,
 "nbformat_minor": 5
}
