{
 "cells": [
  {
   "cell_type": "code",
   "execution_count": 11,
   "id": "d26deeef",
   "metadata": {},
   "outputs": [],
   "source": [
    "import pandas as pd\n",
    "import matplotlib.pyplot as plt\n",
    "import seaborn as sns\n",
    "from sklearn.metrics import mean_absolute_error\n",
    "from sklearn.model_selection import train_test_split\n",
    "from sklearn.preprocessing import LabelEncoder\n",
    "from sklearn.linear_model import LinearRegression\n",
    "\n",
    "%matplotlib inline\n",
    "import warnings\n",
    "warnings.filterwarnings('ignore')"
   ]
  },
  {
   "cell_type": "code",
   "execution_count": 5,
   "id": "a0aa4a2f",
   "metadata": {},
   "outputs": [
    {
     "ename": "ModuleNotFoundError",
     "evalue": "No module named 'xgboost'",
     "output_type": "error",
     "traceback": [
      "\u001b[1;31m---------------------------------------------------------------------------\u001b[0m",
      "\u001b[1;31mModuleNotFoundError\u001b[0m                       Traceback (most recent call last)",
      "\u001b[1;32m<ipython-input-5-e528dc1a32ff>\u001b[0m in \u001b[0;36m<module>\u001b[1;34m\u001b[0m\n\u001b[1;32m----> 1\u001b[1;33m \u001b[1;32mimport\u001b[0m \u001b[0mxgboost\u001b[0m\u001b[1;33m\u001b[0m\u001b[1;33m\u001b[0m\u001b[0m\n\u001b[0m",
      "\u001b[1;31mModuleNotFoundError\u001b[0m: No module named 'xgboost'"
     ]
    }
   ],
   "source": [
    "import xgboost\n"
   ]
  },
  {
   "cell_type": "code",
   "execution_count": 12,
   "id": "8852ecc5",
   "metadata": {},
   "outputs": [
    {
     "name": "stdout",
     "output_type": "stream",
     "text": [
      " Volume in drive C has no label.\n",
      " Volume Serial Number is A20E-6E0F\n",
      "\n",
      " Directory of C:\\Users\\Naku\\Desktop\\books\\zindi hackerthon\\umojahack-africa-2022-intermediate-challenge\n",
      "\n",
      "03/20/2022  08:08 AM    <DIR>          .\n",
      "03/20/2022  08:08 AM    <DIR>          ..\n",
      "03/20/2022  04:15 AM    <DIR>          .ipynb_checkpoints\n",
      "03/20/2022  08:08 AM            26,336 4_5888798611227020550.ipynb\n",
      "03/20/2022  02:11 AM            76,378 Baseline.csv\n",
      "03/20/2022  03:27 AM           146,604 challenge 2.ipynb\n",
      "03/20/2022  02:19 AM           209,990 challenge 21.ipynb\n",
      "03/20/2022  04:09 AM           429,431 challenge 2-Copy1.ipynb\n",
      "03/18/2022  07:04 AM               793 DataDictionary.csv\n",
      "03/19/2022  12:45 PM           114,458 pee.ipynb\n",
      "03/18/2022  07:04 AM         4,069,463 policies.csv\n",
      "03/18/2022  07:04 AM            72,358 SampleSubmission.csv\n",
      "03/18/2022  07:04 AM           534,268 test.csv\n",
      "03/18/2022  07:04 AM         1,312,345 train.csv\n",
      "03/20/2022  02:46 AM            28,512 Untitled.ipynb\n",
      "03/19/2022  04:40 AM           230,003 Zimnat_starternotebook.ipynb\n",
      "              13 File(s)      7,250,939 bytes\n",
      "               3 Dir(s)  270,226,010,112 bytes free\n"
     ]
    }
   ],
   "source": [
    "ls"
   ]
  },
  {
   "cell_type": "code",
   "execution_count": 13,
   "id": "b2fdea54",
   "metadata": {},
   "outputs": [],
   "source": [
    "#loading data\n",
    "dataInfo = pd.read_csv('DataDictionary.csv')\n",
    "policy = pd.read_csv('policies.csv')\n",
    "test = pd.read_csv('test.csv')\n",
    "train = pd.read_csv('train.csv')\n",
    "samplesubmission = pd.read_csv('SampleSubmission.csv')"
   ]
  },
  {
   "cell_type": "code",
   "execution_count": 14,
   "id": "f0897fc9",
   "metadata": {},
   "outputs": [
    {
     "data": {
      "text/html": [
       "<div>\n",
       "<style scoped>\n",
       "    .dataframe tbody tr th:only-of-type {\n",
       "        vertical-align: middle;\n",
       "    }\n",
       "\n",
       "    .dataframe tbody tr th {\n",
       "        vertical-align: top;\n",
       "    }\n",
       "\n",
       "    .dataframe thead th {\n",
       "        text-align: right;\n",
       "    }\n",
       "</style>\n",
       "<table border=\"1\" class=\"dataframe\">\n",
       "  <thead>\n",
       "    <tr style=\"text-align: right;\">\n",
       "      <th></th>\n",
       "      <th>Policy Data</th>\n",
       "      <th>Unnamed: 1</th>\n",
       "    </tr>\n",
       "  </thead>\n",
       "  <tbody>\n",
       "    <tr>\n",
       "      <th>0</th>\n",
       "      <td>Columns</td>\n",
       "      <td>Data type</td>\n",
       "    </tr>\n",
       "    <tr>\n",
       "      <th>1</th>\n",
       "      <td>policy number</td>\n",
       "      <td>Unique policy identifier</td>\n",
       "    </tr>\n",
       "    <tr>\n",
       "      <th>2</th>\n",
       "      <td>product code</td>\n",
       "      <td>product code</td>\n",
       "    </tr>\n",
       "    <tr>\n",
       "      <th>3</th>\n",
       "      <td>trans date</td>\n",
       "      <td>date of policy transaction</td>\n",
       "    </tr>\n",
       "    <tr>\n",
       "      <th>4</th>\n",
       "      <td>from date</td>\n",
       "      <td>first date of policy cover</td>\n",
       "    </tr>\n",
       "  </tbody>\n",
       "</table>\n",
       "</div>"
      ],
      "text/plain": [
       "     Policy Data                  Unnamed: 1\n",
       "0        Columns                   Data type\n",
       "1  policy number    Unique policy identifier\n",
       "2   product code                product code\n",
       "3     trans date  date of policy transaction\n",
       "4      from date  first date of policy cover"
      ]
     },
     "execution_count": 14,
     "metadata": {},
     "output_type": "execute_result"
    }
   ],
   "source": [
    "#viewing the data\n",
    "dataInfo.head()"
   ]
  },
  {
   "cell_type": "code",
   "execution_count": 15,
   "id": "3c858271",
   "metadata": {},
   "outputs": [
    {
     "data": {
      "text/html": [
       "<div>\n",
       "<style scoped>\n",
       "    .dataframe tbody tr th:only-of-type {\n",
       "        vertical-align: middle;\n",
       "    }\n",
       "\n",
       "    .dataframe tbody tr th {\n",
       "        vertical-align: top;\n",
       "    }\n",
       "\n",
       "    .dataframe thead th {\n",
       "        text-align: right;\n",
       "    }\n",
       "</style>\n",
       "<table border=\"1\" class=\"dataframe\">\n",
       "  <thead>\n",
       "    <tr style=\"text-align: right;\">\n",
       "      <th></th>\n",
       "      <th>policy_number</th>\n",
       "      <th>product_code</th>\n",
       "      <th>trans_date</th>\n",
       "      <th>from_date</th>\n",
       "      <th>to_date</th>\n",
       "      <th>agent</th>\n",
       "      <th>class_of_business</th>\n",
       "      <th>client_type</th>\n",
       "      <th>renewal_frequency</th>\n",
       "      <th>branch</th>\n",
       "    </tr>\n",
       "  </thead>\n",
       "  <tbody>\n",
       "    <tr>\n",
       "      <th>0</th>\n",
       "      <td>pol000006995</td>\n",
       "      <td>prod00033</td>\n",
       "      <td>2017-07-01 08:24:55.800</td>\n",
       "      <td>2017-07-01 00:00:00.000</td>\n",
       "      <td>2018-07-01 00:00:00.000</td>\n",
       "      <td>ag00005</td>\n",
       "      <td>cob00035</td>\n",
       "      <td>ct0001</td>\n",
       "      <td>rf0002</td>\n",
       "      <td>br00002</td>\n",
       "    </tr>\n",
       "    <tr>\n",
       "      <th>1</th>\n",
       "      <td>pol000009828</td>\n",
       "      <td>prod00005</td>\n",
       "      <td>2017-07-01 09:04:02.217</td>\n",
       "      <td>2017-07-03 00:00:00.000</td>\n",
       "      <td>2017-11-02 00:00:00.000</td>\n",
       "      <td>ag00226</td>\n",
       "      <td>cob00009</td>\n",
       "      <td>ct0003</td>\n",
       "      <td>rf0001</td>\n",
       "      <td>br00006</td>\n",
       "    </tr>\n",
       "    <tr>\n",
       "      <th>2</th>\n",
       "      <td>pol000009828</td>\n",
       "      <td>prod00005</td>\n",
       "      <td>2017-07-01 09:04:02.217</td>\n",
       "      <td>2017-07-03 00:00:00.000</td>\n",
       "      <td>2017-11-02 00:00:00.000</td>\n",
       "      <td>ag00226</td>\n",
       "      <td>cob00031</td>\n",
       "      <td>ct0003</td>\n",
       "      <td>rf0001</td>\n",
       "      <td>br00006</td>\n",
       "    </tr>\n",
       "    <tr>\n",
       "      <th>3</th>\n",
       "      <td>pol000007729</td>\n",
       "      <td>prod00005</td>\n",
       "      <td>2017-07-01 09:36:53.843</td>\n",
       "      <td>2017-07-01 00:00:00.000</td>\n",
       "      <td>2017-10-31 00:00:00.000</td>\n",
       "      <td>ag00005</td>\n",
       "      <td>cob00031</td>\n",
       "      <td>ct0003</td>\n",
       "      <td>rf0001</td>\n",
       "      <td>br00002</td>\n",
       "    </tr>\n",
       "    <tr>\n",
       "      <th>4</th>\n",
       "      <td>pol000007729</td>\n",
       "      <td>prod00005</td>\n",
       "      <td>2017-07-01 09:36:53.843</td>\n",
       "      <td>2017-07-01 00:00:00.000</td>\n",
       "      <td>2017-10-31 00:00:00.000</td>\n",
       "      <td>ag00005</td>\n",
       "      <td>cob00009</td>\n",
       "      <td>ct0003</td>\n",
       "      <td>rf0001</td>\n",
       "      <td>br00002</td>\n",
       "    </tr>\n",
       "  </tbody>\n",
       "</table>\n",
       "</div>"
      ],
      "text/plain": [
       "  policy_number product_code               trans_date  \\\n",
       "0  pol000006995    prod00033  2017-07-01 08:24:55.800   \n",
       "1  pol000009828    prod00005  2017-07-01 09:04:02.217   \n",
       "2  pol000009828    prod00005  2017-07-01 09:04:02.217   \n",
       "3  pol000007729    prod00005  2017-07-01 09:36:53.843   \n",
       "4  pol000007729    prod00005  2017-07-01 09:36:53.843   \n",
       "\n",
       "                 from_date                  to_date    agent  \\\n",
       "0  2017-07-01 00:00:00.000  2018-07-01 00:00:00.000  ag00005   \n",
       "1  2017-07-03 00:00:00.000  2017-11-02 00:00:00.000  ag00226   \n",
       "2  2017-07-03 00:00:00.000  2017-11-02 00:00:00.000  ag00226   \n",
       "3  2017-07-01 00:00:00.000  2017-10-31 00:00:00.000  ag00005   \n",
       "4  2017-07-01 00:00:00.000  2017-10-31 00:00:00.000  ag00005   \n",
       "\n",
       "  class_of_business client_type renewal_frequency   branch  \n",
       "0          cob00035      ct0001            rf0002  br00002  \n",
       "1          cob00009      ct0003            rf0001  br00006  \n",
       "2          cob00031      ct0003            rf0001  br00006  \n",
       "3          cob00031      ct0003            rf0001  br00002  \n",
       "4          cob00009      ct0003            rf0001  br00002  "
      ]
     },
     "execution_count": 15,
     "metadata": {},
     "output_type": "execute_result"
    }
   ],
   "source": [
    "policy.head()"
   ]
  },
  {
   "cell_type": "code",
   "execution_count": 16,
   "id": "2304a450",
   "metadata": {},
   "outputs": [
    {
     "name": "stdout",
     "output_type": "stream",
     "text": [
      "<class 'pandas.core.frame.DataFrame'>\n",
      "RangeIndex: 30371 entries, 0 to 30370\n",
      "Data columns (total 10 columns):\n",
      " #   Column             Non-Null Count  Dtype \n",
      "---  ------             --------------  ----- \n",
      " 0   policy_number      30371 non-null  object\n",
      " 1   product_code       30371 non-null  object\n",
      " 2   trans_date         30371 non-null  object\n",
      " 3   from_date          30371 non-null  object\n",
      " 4   to_date            30371 non-null  object\n",
      " 5   agent              30371 non-null  object\n",
      " 6   class_of_business  30325 non-null  object\n",
      " 7   client_type        30371 non-null  object\n",
      " 8   renewal_frequency  30371 non-null  object\n",
      " 9   branch             30371 non-null  object\n",
      "dtypes: object(10)\n",
      "memory usage: 1.2+ MB\n"
     ]
    }
   ],
   "source": [
    "policy.info()"
   ]
  },
  {
   "cell_type": "markdown",
   "id": "f7879daf",
   "metadata": {},
   "source": [
    "FOCUSSING ON THE TRAIN DATA--VISUALISATION AND ANALYSIS"
   ]
  },
  {
   "cell_type": "code",
   "execution_count": 17,
   "id": "43ba63f5",
   "metadata": {},
   "outputs": [
    {
     "data": {
      "text/html": [
       "<div>\n",
       "<style scoped>\n",
       "    .dataframe tbody tr th:only-of-type {\n",
       "        vertical-align: middle;\n",
       "    }\n",
       "\n",
       "    .dataframe tbody tr th {\n",
       "        vertical-align: top;\n",
       "    }\n",
       "\n",
       "    .dataframe thead th {\n",
       "        text-align: right;\n",
       "    }\n",
       "</style>\n",
       "<table border=\"1\" class=\"dataframe\">\n",
       "  <thead>\n",
       "    <tr style=\"text-align: right;\">\n",
       "      <th></th>\n",
       "      <th>claim_id</th>\n",
       "      <th>policy_number</th>\n",
       "      <th>claim_number</th>\n",
       "      <th>sum_insured</th>\n",
       "      <th>product</th>\n",
       "      <th>agent</th>\n",
       "      <th>class_of_business</th>\n",
       "      <th>risk_type</th>\n",
       "      <th>loss_date</th>\n",
       "      <th>client_type</th>\n",
       "      <th>renewal_frequency</th>\n",
       "      <th>primary_cause</th>\n",
       "      <th>secondary_cause</th>\n",
       "      <th>branch</th>\n",
       "      <th>target</th>\n",
       "    </tr>\n",
       "  </thead>\n",
       "  <tbody>\n",
       "    <tr>\n",
       "      <th>0</th>\n",
       "      <td>ID_JZ7QWRHH57RO</td>\n",
       "      <td>pol000009680</td>\n",
       "      <td>claim0011359</td>\n",
       "      <td>300000.0</td>\n",
       "      <td>prod00027</td>\n",
       "      <td>ag00068</td>\n",
       "      <td>cob00031</td>\n",
       "      <td>rt00006</td>\n",
       "      <td>2021-05-13</td>\n",
       "      <td>ct0003</td>\n",
       "      <td>rf0001</td>\n",
       "      <td>pc0007</td>\n",
       "      <td>sc00022</td>\n",
       "      <td>br00006</td>\n",
       "      <td>82150.00</td>\n",
       "    </tr>\n",
       "    <tr>\n",
       "      <th>1</th>\n",
       "      <td>ID_KQ5TJMVLJ4EP</td>\n",
       "      <td>pol000006869</td>\n",
       "      <td>claim0005272</td>\n",
       "      <td>16000.0</td>\n",
       "      <td>prod00005</td>\n",
       "      <td>ag00226</td>\n",
       "      <td>cob00010</td>\n",
       "      <td>rt00032</td>\n",
       "      <td>2018-05-13</td>\n",
       "      <td>ct0003</td>\n",
       "      <td>rf0001</td>\n",
       "      <td>pc0007</td>\n",
       "      <td>sc00023</td>\n",
       "      <td>br00002</td>\n",
       "      <td>3780.24</td>\n",
       "    </tr>\n",
       "    <tr>\n",
       "      <th>2</th>\n",
       "      <td>ID_NYHI7WJGGIAE</td>\n",
       "      <td>pol000006135</td>\n",
       "      <td>claim0004147</td>\n",
       "      <td>3000.0</td>\n",
       "      <td>prod00029</td>\n",
       "      <td>ag00037</td>\n",
       "      <td>cob00010</td>\n",
       "      <td>rt00026</td>\n",
       "      <td>2018-08-18</td>\n",
       "      <td>ct0003</td>\n",
       "      <td>rf0001</td>\n",
       "      <td>pc0007</td>\n",
       "      <td>sc00024</td>\n",
       "      <td>br00002</td>\n",
       "      <td>2196.50</td>\n",
       "    </tr>\n",
       "    <tr>\n",
       "      <th>3</th>\n",
       "      <td>ID_ROMMDCXYUXN5</td>\n",
       "      <td>pol000008991</td>\n",
       "      <td>claim0009962</td>\n",
       "      <td>6000.0</td>\n",
       "      <td>prod00005</td>\n",
       "      <td>ag00037</td>\n",
       "      <td>cob00009</td>\n",
       "      <td>rt00032</td>\n",
       "      <td>2018-12-20</td>\n",
       "      <td>ct0003</td>\n",
       "      <td>rf0001</td>\n",
       "      <td>pc0007</td>\n",
       "      <td>sc00021</td>\n",
       "      <td>br00001</td>\n",
       "      <td>105.67</td>\n",
       "    </tr>\n",
       "    <tr>\n",
       "      <th>4</th>\n",
       "      <td>ID_2OTD9NX8L73D</td>\n",
       "      <td>pol000007768</td>\n",
       "      <td>claim0007346</td>\n",
       "      <td>26850.0</td>\n",
       "      <td>prod00015</td>\n",
       "      <td>ag00226</td>\n",
       "      <td>cob00034</td>\n",
       "      <td>rt00023</td>\n",
       "      <td>2018-11-07</td>\n",
       "      <td>ct0001</td>\n",
       "      <td>rf0001</td>\n",
       "      <td>pc0007</td>\n",
       "      <td>sc00021</td>\n",
       "      <td>br00001</td>\n",
       "      <td>1605.64</td>\n",
       "    </tr>\n",
       "  </tbody>\n",
       "</table>\n",
       "</div>"
      ],
      "text/plain": [
       "          claim_id policy_number  claim_number  sum_insured    product  \\\n",
       "0  ID_JZ7QWRHH57RO  pol000009680  claim0011359     300000.0  prod00027   \n",
       "1  ID_KQ5TJMVLJ4EP  pol000006869  claim0005272      16000.0  prod00005   \n",
       "2  ID_NYHI7WJGGIAE  pol000006135  claim0004147       3000.0  prod00029   \n",
       "3  ID_ROMMDCXYUXN5  pol000008991  claim0009962       6000.0  prod00005   \n",
       "4  ID_2OTD9NX8L73D  pol000007768  claim0007346      26850.0  prod00015   \n",
       "\n",
       "     agent class_of_business risk_type   loss_date client_type  \\\n",
       "0  ag00068          cob00031   rt00006  2021-05-13      ct0003   \n",
       "1  ag00226          cob00010   rt00032  2018-05-13      ct0003   \n",
       "2  ag00037          cob00010   rt00026  2018-08-18      ct0003   \n",
       "3  ag00037          cob00009   rt00032  2018-12-20      ct0003   \n",
       "4  ag00226          cob00034   rt00023  2018-11-07      ct0001   \n",
       "\n",
       "  renewal_frequency primary_cause secondary_cause   branch    target  \n",
       "0            rf0001        pc0007         sc00022  br00006  82150.00  \n",
       "1            rf0001        pc0007         sc00023  br00002   3780.24  \n",
       "2            rf0001        pc0007         sc00024  br00002   2196.50  \n",
       "3            rf0001        pc0007         sc00021  br00001    105.67  \n",
       "4            rf0001        pc0007         sc00021  br00001   1605.64  "
      ]
     },
     "execution_count": 17,
     "metadata": {},
     "output_type": "execute_result"
    }
   ],
   "source": [
    "train.head()"
   ]
  },
  {
   "cell_type": "code",
   "execution_count": 18,
   "id": "fdaae716",
   "metadata": {},
   "outputs": [
    {
     "name": "stdout",
     "output_type": "stream",
     "text": [
      "<class 'pandas.core.frame.DataFrame'>\n",
      "RangeIndex: 9376 entries, 0 to 9375\n",
      "Data columns (total 15 columns):\n",
      " #   Column             Non-Null Count  Dtype  \n",
      "---  ------             --------------  -----  \n",
      " 0   claim_id           9376 non-null   object \n",
      " 1   policy_number      9290 non-null   object \n",
      " 2   claim_number       9376 non-null   object \n",
      " 3   sum_insured        9376 non-null   float64\n",
      " 4   product            9376 non-null   object \n",
      " 5   agent              9376 non-null   object \n",
      " 6   class_of_business  9376 non-null   object \n",
      " 7   risk_type          9376 non-null   object \n",
      " 8   loss_date          9376 non-null   object \n",
      " 9   client_type        9376 non-null   object \n",
      " 10  renewal_frequency  9376 non-null   object \n",
      " 11  primary_cause      9376 non-null   object \n",
      " 12  secondary_cause    9376 non-null   object \n",
      " 13  branch             9376 non-null   object \n",
      " 14  target             9376 non-null   float64\n",
      "dtypes: float64(2), object(13)\n",
      "memory usage: 622.7+ KB\n"
     ]
    }
   ],
   "source": [
    "train.info()"
   ]
  },
  {
   "cell_type": "code",
   "execution_count": 19,
   "id": "03afd549",
   "metadata": {},
   "outputs": [
    {
     "data": {
      "text/plain": [
       "claim_id              0\n",
       "policy_number        86\n",
       "claim_number          0\n",
       "sum_insured           0\n",
       "product               0\n",
       "agent                 0\n",
       "class_of_business     0\n",
       "risk_type             0\n",
       "loss_date             0\n",
       "client_type           0\n",
       "renewal_frequency     0\n",
       "primary_cause         0\n",
       "secondary_cause       0\n",
       "branch                0\n",
       "target                0\n",
       "dtype: int64"
      ]
     },
     "execution_count": 19,
     "metadata": {},
     "output_type": "execute_result"
    }
   ],
   "source": [
    "train.isnull().sum()"
   ]
  },
  {
   "cell_type": "code",
   "execution_count": 20,
   "id": "fcf8c8c3",
   "metadata": {},
   "outputs": [
    {
     "data": {
      "image/png": "[encoded data removed]",
      "text/plain": [
       "<Figure size 648x720 with 1 Axes>"
      ]
     },
     "metadata": {
      "needs_background": "light"
     },
     "output_type": "display_data"
    }
   ],
   "source": [
    "# Plot missing values in train set\n",
    "ax = train.isna().sum().sort_values().plot(kind = 'barh', figsize = (9, 10))\n",
    "plt.title('Percentage of Missing Values Per Column in Train Set', fontdict={'size':15})\n",
    "for p in ax.patches:\n",
    "    percentage ='{:,.0f}%'.format((p.get_width()/train.shape[0])*100)\n",
    "    width, height =p.get_width(),p.get_height()\n",
    "    x=p.get_x()+width+0.02\n",
    "    y=p.get_y()+height/2\n",
    "    ax.annotate(percentage,(x,y))"
   ]
  },
  {
   "cell_type": "code",
   "execution_count": 21,
   "id": "ed6f3d95",
   "metadata": {},
   "outputs": [
    {
     "data": {
      "text/plain": [
       "0"
      ]
     },
     "execution_count": 21,
     "metadata": {},
     "output_type": "execute_result"
    }
   ],
   "source": [
    "#checking for duplications\n",
    "train.duplicated().sum()"
   ]
  },
  {
   "cell_type": "code",
   "execution_count": 22,
   "id": "1fdb2a5f",
   "metadata": {},
   "outputs": [
    {
     "data": {
      "image/png": "[encoded data removed]",
      "text/plain": [
       "<Figure size 864x432 with 1 Axes>"
      ]
     },
     "metadata": {
      "needs_background": "light"
     },
     "output_type": "display_data"
    }
   ],
   "source": [
    "# A box plot showing outliers\n",
    "plt.figure(figsize=(12, 6))\n",
    "sns.boxplot(train.target)\n",
    "plt.title('Target Variable Distribution');"
   ]
  },
  {
   "cell_type": "code",
   "execution_count": null,
   "id": "12f863cc",
   "metadata": {},
   "outputs": [],
   "source": []
  },
  {
   "cell_type": "code",
   "execution_count": 23,
   "id": "03912626",
   "metadata": {},
   "outputs": [
    {
     "data": {
      "text/plain": [
       "Index(['claim_id', 'policy_number', 'claim_number', 'sum_insured', 'product',\n",
       "       'agent', 'class_of_business', 'risk_type', 'loss_date', 'client_type',\n",
       "       'renewal_frequency', 'primary_cause', 'secondary_cause', 'branch',\n",
       "       'target'],\n",
       "      dtype='object')"
      ]
     },
     "execution_count": 23,
     "metadata": {},
     "output_type": "execute_result"
    }
   ],
   "source": [
    "train.columns"
   ]
  },
  {
   "cell_type": "code",
   "execution_count": 24,
   "id": "4e4deb19",
   "metadata": {},
   "outputs": [
    {
     "name": "stdout",
     "output_type": "stream",
     "text": [
      "Old Shape:  (9376, 15)\n",
      "New Shape:  (7873, 15)\n"
     ]
    }
   ],
   "source": [
    "#removing outliers\n",
    "import numpy as np\n",
    "\n",
    "\n",
    "# IQR\n",
    "Q1 = np.percentile(train['target'], 25,\n",
    "                   interpolation = 'midpoint')\n",
    " \n",
    "Q3 = np.percentile(train['target'], 75,\n",
    "                   interpolation = 'midpoint')\n",
    "IQR = Q3 - Q1\n",
    " \n",
    "print(\"Old Shape: \", train.shape)\n",
    " \n",
    "# Upper bound\n",
    "upper = np.where(train['target'] >= (Q3+1.5*IQR))\n",
    "# Lower bound\n",
    "lower = np.where(train['target'] <= (Q1-1.5*IQR))\n",
    " \n",
    "''' Removing the Outliers '''\n",
    "train.drop(upper[0], inplace = True)\n",
    "train.drop(lower[0], inplace = True)\n",
    "#test.drop(upper[0], inplace = True)\n",
    "#test.drop(lower[0], inplace = True)\n",
    " \n",
    "print(\"New Shape: \", train.shape)"
   ]
  },
  {
   "cell_type": "code",
   "execution_count": null,
   "id": "9754805d",
   "metadata": {},
   "outputs": [],
   "source": []
  },
  {
   "cell_type": "code",
   "execution_count": 25,
   "id": "cd047e7c",
   "metadata": {},
   "outputs": [],
   "source": [
    "#filling the converted outliers with mean\n",
    "train = train.fillna(train.mean())"
   ]
  },
  {
   "cell_type": "code",
   "execution_count": 26,
   "id": "a465ec94",
   "metadata": {},
   "outputs": [
    {
     "name": "stdout",
     "output_type": "stream",
     "text": [
      "<class 'pandas.core.frame.DataFrame'>\n",
      "Int64Index: 7873 entries, 1 to 9375\n",
      "Data columns (total 15 columns):\n",
      " #   Column             Non-Null Count  Dtype  \n",
      "---  ------             --------------  -----  \n",
      " 0   claim_id           7873 non-null   object \n",
      " 1   policy_number      7788 non-null   object \n",
      " 2   claim_number       7873 non-null   object \n",
      " 3   sum_insured        7873 non-null   float64\n",
      " 4   product            7873 non-null   object \n",
      " 5   agent              7873 non-null   object \n",
      " 6   class_of_business  7873 non-null   object \n",
      " 7   risk_type          7873 non-null   object \n",
      " 8   loss_date          7873 non-null   object \n",
      " 9   client_type        7873 non-null   object \n",
      " 10  renewal_frequency  7873 non-null   object \n",
      " 11  primary_cause      7873 non-null   object \n",
      " 12  secondary_cause    7873 non-null   object \n",
      " 13  branch             7873 non-null   object \n",
      " 14  target             7873 non-null   float64\n",
      "dtypes: float64(2), object(13)\n",
      "memory usage: 778.4+ KB\n"
     ]
    }
   ],
   "source": [
    "train.info()"
   ]
  },
  {
   "cell_type": "code",
   "execution_count": 27,
   "id": "d7583ca7",
   "metadata": {},
   "outputs": [
    {
     "data": {
      "text/plain": [
       "count                    7873\n",
       "unique                   1272\n",
       "top       2019-08-20 00:00:00\n",
       "freq                       80\n",
       "first     2018-01-01 00:00:00\n",
       "last      2021-10-22 00:00:00\n",
       "Name: loss_date, dtype: object"
      ]
     },
     "execution_count": 27,
     "metadata": {},
     "output_type": "execute_result"
    }
   ],
   "source": [
    "# Convert datetime variables to datetime objects\n",
    "train.loss_date = pd.to_datetime(train.loss_date, errors='coerce')\n",
    "\n",
    "# Confirm that the dates have been converted successfully \n",
    "train.loss_date.describe()"
   ]
  },
  {
   "cell_type": "code",
   "execution_count": null,
   "id": "da830066",
   "metadata": {},
   "outputs": [],
   "source": []
  },
  {
   "cell_type": "code",
   "execution_count": 28,
   "id": "8a5de2a1",
   "metadata": {},
   "outputs": [
    {
     "data": {
      "text/html": [
       "<div>\n",
       "<style scoped>\n",
       "    .dataframe tbody tr th:only-of-type {\n",
       "        vertical-align: middle;\n",
       "    }\n",
       "\n",
       "    .dataframe tbody tr th {\n",
       "        vertical-align: top;\n",
       "    }\n",
       "\n",
       "    .dataframe thead th {\n",
       "        text-align: right;\n",
       "    }\n",
       "</style>\n",
       "<table border=\"1\" class=\"dataframe\">\n",
       "  <thead>\n",
       "    <tr style=\"text-align: right;\">\n",
       "      <th></th>\n",
       "      <th>agent</th>\n",
       "      <th>branch</th>\n",
       "      <th>claim_number</th>\n",
       "      <th>class_of_business</th>\n",
       "      <th>client_type</th>\n",
       "      <th>policy_number</th>\n",
       "      <th>primary_cause</th>\n",
       "      <th>product</th>\n",
       "      <th>renewal_frequency</th>\n",
       "      <th>risk_type</th>\n",
       "      <th>secondary_cause</th>\n",
       "    </tr>\n",
       "  </thead>\n",
       "  <tbody>\n",
       "    <tr>\n",
       "      <th>1</th>\n",
       "      <td>ag00226</td>\n",
       "      <td>br00002</td>\n",
       "      <td>claim0005272</td>\n",
       "      <td>cob00010</td>\n",
       "      <td>ct0003</td>\n",
       "      <td>pol000006869</td>\n",
       "      <td>pc0007</td>\n",
       "      <td>prod00005</td>\n",
       "      <td>rf0001</td>\n",
       "      <td>rt00032</td>\n",
       "      <td>sc00023</td>\n",
       "    </tr>\n",
       "    <tr>\n",
       "      <th>2</th>\n",
       "      <td>ag00037</td>\n",
       "      <td>br00002</td>\n",
       "      <td>claim0004147</td>\n",
       "      <td>cob00010</td>\n",
       "      <td>ct0003</td>\n",
       "      <td>pol000006135</td>\n",
       "      <td>pc0007</td>\n",
       "      <td>prod00029</td>\n",
       "      <td>rf0001</td>\n",
       "      <td>rt00026</td>\n",
       "      <td>sc00024</td>\n",
       "    </tr>\n",
       "    <tr>\n",
       "      <th>3</th>\n",
       "      <td>ag00037</td>\n",
       "      <td>br00001</td>\n",
       "      <td>claim0009962</td>\n",
       "      <td>cob00009</td>\n",
       "      <td>ct0003</td>\n",
       "      <td>pol000008991</td>\n",
       "      <td>pc0007</td>\n",
       "      <td>prod00005</td>\n",
       "      <td>rf0001</td>\n",
       "      <td>rt00032</td>\n",
       "      <td>sc00021</td>\n",
       "    </tr>\n",
       "    <tr>\n",
       "      <th>4</th>\n",
       "      <td>ag00226</td>\n",
       "      <td>br00001</td>\n",
       "      <td>claim0007346</td>\n",
       "      <td>cob00034</td>\n",
       "      <td>ct0001</td>\n",
       "      <td>pol000007768</td>\n",
       "      <td>pc0007</td>\n",
       "      <td>prod00015</td>\n",
       "      <td>rf0001</td>\n",
       "      <td>rt00023</td>\n",
       "      <td>sc00021</td>\n",
       "    </tr>\n",
       "    <tr>\n",
       "      <th>5</th>\n",
       "      <td>ag00037</td>\n",
       "      <td>br00002</td>\n",
       "      <td>claim0002227</td>\n",
       "      <td>cob00034</td>\n",
       "      <td>ct0001</td>\n",
       "      <td>pol000005951</td>\n",
       "      <td>pc0002</td>\n",
       "      <td>prod00015</td>\n",
       "      <td>rf0002</td>\n",
       "      <td>rt00023</td>\n",
       "      <td>sc00003</td>\n",
       "    </tr>\n",
       "  </tbody>\n",
       "</table>\n",
       "</div>"
      ],
      "text/plain": [
       "     agent   branch  claim_number class_of_business client_type policy_number  \\\n",
       "1  ag00226  br00002  claim0005272          cob00010      ct0003  pol000006869   \n",
       "2  ag00037  br00002  claim0004147          cob00010      ct0003  pol000006135   \n",
       "3  ag00037  br00001  claim0009962          cob00009      ct0003  pol000008991   \n",
       "4  ag00226  br00001  claim0007346          cob00034      ct0001  pol000007768   \n",
       "5  ag00037  br00002  claim0002227          cob00034      ct0001  pol000005951   \n",
       "\n",
       "  primary_cause    product renewal_frequency risk_type secondary_cause  \n",
       "1        pc0007  prod00005            rf0001   rt00032         sc00023  \n",
       "2        pc0007  prod00029            rf0001   rt00026         sc00024  \n",
       "3        pc0007  prod00005            rf0001   rt00032         sc00021  \n",
       "4        pc0007  prod00015            rf0001   rt00023         sc00021  \n",
       "5        pc0002  prod00015            rf0002   rt00023         sc00003  "
      ]
     },
     "execution_count": 28,
     "metadata": {},
     "output_type": "execute_result"
    }
   ],
   "source": [
    "# Convert categorical variables to categorical objects\n",
    "cat_cols = train.columns.difference(['claim_id', 'loss_date', 'sum_insured', 'target']).tolist()\n",
    "\n",
    "# Preview categorical variables\n",
    "train[cat_cols].head()"
   ]
  },
  {
   "cell_type": "code",
   "execution_count": 29,
   "id": "5a9617c5",
   "metadata": {},
   "outputs": [
    {
     "name": "stdout",
     "output_type": "stream",
     "text": [
      "<class 'pandas.core.frame.DataFrame'>\n",
      "Int64Index: 7873 entries, 1 to 9375\n",
      "Data columns (total 15 columns):\n",
      " #   Column             Non-Null Count  Dtype         \n",
      "---  ------             --------------  -----         \n",
      " 0   claim_id           7873 non-null   object        \n",
      " 1   policy_number      7873 non-null   category      \n",
      " 2   claim_number       7873 non-null   category      \n",
      " 3   sum_insured        7873 non-null   float64       \n",
      " 4   product            7873 non-null   category      \n",
      " 5   agent              7873 non-null   category      \n",
      " 6   class_of_business  7873 non-null   category      \n",
      " 7   risk_type          7873 non-null   category      \n",
      " 8   loss_date          7873 non-null   datetime64[ns]\n",
      " 9   client_type        7873 non-null   category      \n",
      " 10  renewal_frequency  7873 non-null   category      \n",
      " 11  primary_cause      7873 non-null   category      \n",
      " 12  secondary_cause    7873 non-null   category      \n",
      " 13  branch             7873 non-null   category      \n",
      " 14  target             7873 non-null   float64       \n",
      "dtypes: category(11), datetime64[ns](1), float64(2), object(1)\n",
      "memory usage: 815.0+ KB\n"
     ]
    }
   ],
   "source": [
    "# Fill in missing values in categorical variables with the most common\n",
    "train[cat_cols] = train[cat_cols].apply(lambda x: x.fillna(x.value_counts().index[0]))\n",
    "\n",
    "# Convert\n",
    "for col in cat_cols:\n",
    "  train[col] = train[col].astype('category')\n",
    "\n",
    "# Confirm\n",
    "train.info()"
   ]
  },
  {
   "cell_type": "code",
   "execution_count": 30,
   "id": "bc062f78",
   "metadata": {},
   "outputs": [
    {
     "data": {
      "text/html": [
       "<div>\n",
       "<style scoped>\n",
       "    .dataframe tbody tr th:only-of-type {\n",
       "        vertical-align: middle;\n",
       "    }\n",
       "\n",
       "    .dataframe tbody tr th {\n",
       "        vertical-align: top;\n",
       "    }\n",
       "\n",
       "    .dataframe thead th {\n",
       "        text-align: right;\n",
       "    }\n",
       "</style>\n",
       "<table border=\"1\" class=\"dataframe\">\n",
       "  <thead>\n",
       "    <tr style=\"text-align: right;\">\n",
       "      <th></th>\n",
       "      <th>loss_date</th>\n",
       "      <th>loss_date_day</th>\n",
       "      <th>loss_date_month</th>\n",
       "      <th>loss_date_year</th>\n",
       "    </tr>\n",
       "  </thead>\n",
       "  <tbody>\n",
       "    <tr>\n",
       "      <th>1</th>\n",
       "      <td>2018-05-13</td>\n",
       "      <td>13</td>\n",
       "      <td>5</td>\n",
       "      <td>2018</td>\n",
       "    </tr>\n",
       "    <tr>\n",
       "      <th>2</th>\n",
       "      <td>2018-08-18</td>\n",
       "      <td>18</td>\n",
       "      <td>8</td>\n",
       "      <td>2018</td>\n",
       "    </tr>\n",
       "    <tr>\n",
       "      <th>3</th>\n",
       "      <td>2018-12-20</td>\n",
       "      <td>20</td>\n",
       "      <td>12</td>\n",
       "      <td>2018</td>\n",
       "    </tr>\n",
       "    <tr>\n",
       "      <th>4</th>\n",
       "      <td>2018-11-07</td>\n",
       "      <td>7</td>\n",
       "      <td>11</td>\n",
       "      <td>2018</td>\n",
       "    </tr>\n",
       "    <tr>\n",
       "      <th>5</th>\n",
       "      <td>2019-12-03</td>\n",
       "      <td>3</td>\n",
       "      <td>12</td>\n",
       "      <td>2019</td>\n",
       "    </tr>\n",
       "  </tbody>\n",
       "</table>\n",
       "</div>"
      ],
      "text/plain": [
       "   loss_date  loss_date_day  loss_date_month  loss_date_year\n",
       "1 2018-05-13             13                5            2018\n",
       "2 2018-08-18             18                8            2018\n",
       "3 2018-12-20             20               12            2018\n",
       "4 2018-11-07              7               11            2018\n",
       "5 2019-12-03              3               12            2019"
      ]
     },
     "execution_count": 30,
     "metadata": {},
     "output_type": "execute_result"
    }
   ],
   "source": [
    "# Extract day, month and year from the loss date column\n",
    "# day\n",
    "train['loss_date_day'] = train.loss_date.dt.day\n",
    "\n",
    "# month\n",
    "train['loss_date_month'] = train.loss_date.dt.month\n",
    " \n",
    "# year\n",
    "train['loss_date_year'] = train.loss_date.dt.year\n",
    "\n",
    "# Preview engineered date features\n",
    "train[['loss_date', 'loss_date_day', 'loss_date_month', 'loss_date_year']].head()# Extract day, month and year from the loss date column\n",
    "# day\n",
    "train['loss_date_day'] = train.loss_date.dt.day\n",
    "\n",
    "# month\n",
    "train['loss_date_month'] = train.loss_date.dt.month\n",
    " \n",
    "# year\n",
    "train['loss_date_year'] = train.loss_date.dt.year\n",
    "\n",
    "# Preview engineered date features\n",
    "train[['loss_date', 'loss_date_day', 'loss_date_month', 'loss_date_year']].head()"
   ]
  },
  {
   "cell_type": "code",
   "execution_count": 31,
   "id": "59248b03",
   "metadata": {},
   "outputs": [
    {
     "data": {
      "image/png": "[encoded data removed]",
      "text/plain": [
       "<Figure size 1008x504 with 1 Axes>"
      ]
     },
     "metadata": {
      "needs_background": "light"
     },
     "output_type": "display_data"
    }
   ],
   "source": [
    "# Loss month countplot\n",
    "plt.figure(figsize = (14, 7))\n",
    "sns.countplot(x = 'loss_date_month', data = train)\n",
    "plt.title('Loss month count plot')\n",
    "plt.show()"
   ]
  },
  {
   "cell_type": "code",
   "execution_count": 46,
   "id": "121cf80a",
   "metadata": {},
   "outputs": [
    {
     "data": {
      "image/png": "[encoded data removed]",
      "text/plain": [
       "<Figure size 720x360 with 1 Axes>"
      ]
     },
     "metadata": {
      "needs_background": "light"
     },
     "output_type": "display_data"
    }
   ],
   "source": [
    "# Loss year countplot\n",
    "plt.figure(figsize = (10, 5))\n",
    "sns.countplot(x = 'loss_date_year', data = train)\n",
    "plt.title('Loss year count plot')\n",
    "plt.show()"
   ]
  },
  {
   "cell_type": "code",
   "execution_count": 47,
   "id": "18000214",
   "metadata": {
    "scrolled": true
   },
   "outputs": [
    {
     "data": {
      "image/png": "[encoded data removed]",
      "text/plain": [
       "<Figure size 1008x360 with 1 Axes>"
      ]
     },
     "metadata": {
      "needs_background": "light"
     },
     "output_type": "display_data"
    }
   ],
   "source": [
    "plt.figure(figsize = (14, 5))\n",
    "sns.boxplot(x = 'branch', y = 'sum_insured', data = train)\n",
    "plt.title('Branch Vs Suminsured boxplots')\n",
    "plt.show()"
   ]
  },
  {
   "cell_type": "code",
   "execution_count": 48,
   "id": "7b1fc783",
   "metadata": {},
   "outputs": [
    {
     "data": {
      "text/html": [
       "<div>\n",
       "<style scoped>\n",
       "    .dataframe tbody tr th:only-of-type {\n",
       "        vertical-align: middle;\n",
       "    }\n",
       "\n",
       "    .dataframe tbody tr th {\n",
       "        vertical-align: top;\n",
       "    }\n",
       "\n",
       "    .dataframe thead th {\n",
       "        text-align: right;\n",
       "    }\n",
       "</style>\n",
       "<table border=\"1\" class=\"dataframe\">\n",
       "  <thead>\n",
       "    <tr style=\"text-align: right;\">\n",
       "      <th></th>\n",
       "      <th>claim_id</th>\n",
       "      <th>policy_number</th>\n",
       "      <th>claim_number</th>\n",
       "      <th>sum_insured</th>\n",
       "      <th>product</th>\n",
       "      <th>agent</th>\n",
       "      <th>class_of_business</th>\n",
       "      <th>risk_type</th>\n",
       "      <th>loss_date</th>\n",
       "      <th>client_type</th>\n",
       "      <th>renewal_frequency</th>\n",
       "      <th>primary_cause</th>\n",
       "      <th>secondary_cause</th>\n",
       "      <th>branch</th>\n",
       "      <th>target</th>\n",
       "      <th>loss_date_day</th>\n",
       "      <th>loss_date_month</th>\n",
       "      <th>loss_date_year</th>\n",
       "    </tr>\n",
       "  </thead>\n",
       "  <tbody>\n",
       "    <tr>\n",
       "      <th>1</th>\n",
       "      <td>ID_KQ5TJMVLJ4EP</td>\n",
       "      <td>1032</td>\n",
       "      <td>2871</td>\n",
       "      <td>16000.0</td>\n",
       "      <td>4</td>\n",
       "      <td>7</td>\n",
       "      <td>9</td>\n",
       "      <td>30</td>\n",
       "      <td>2018-05-13</td>\n",
       "      <td>2</td>\n",
       "      <td>0</td>\n",
       "      <td>6</td>\n",
       "      <td>21</td>\n",
       "      <td>1</td>\n",
       "      <td>3780.24</td>\n",
       "      <td>13</td>\n",
       "      <td>5</td>\n",
       "      <td>2018</td>\n",
       "    </tr>\n",
       "    <tr>\n",
       "      <th>2</th>\n",
       "      <td>ID_NYHI7WJGGIAE</td>\n",
       "      <td>549</td>\n",
       "      <td>2249</td>\n",
       "      <td>3000.0</td>\n",
       "      <td>26</td>\n",
       "      <td>1</td>\n",
       "      <td>9</td>\n",
       "      <td>24</td>\n",
       "      <td>2018-08-18</td>\n",
       "      <td>2</td>\n",
       "      <td>0</td>\n",
       "      <td>6</td>\n",
       "      <td>22</td>\n",
       "      <td>1</td>\n",
       "      <td>2196.50</td>\n",
       "      <td>18</td>\n",
       "      <td>8</td>\n",
       "      <td>2018</td>\n",
       "    </tr>\n",
       "    <tr>\n",
       "      <th>3</th>\n",
       "      <td>ID_ROMMDCXYUXN5</td>\n",
       "      <td>2294</td>\n",
       "      <td>5303</td>\n",
       "      <td>6000.0</td>\n",
       "      <td>4</td>\n",
       "      <td>1</td>\n",
       "      <td>8</td>\n",
       "      <td>30</td>\n",
       "      <td>2018-12-20</td>\n",
       "      <td>2</td>\n",
       "      <td>0</td>\n",
       "      <td>6</td>\n",
       "      <td>19</td>\n",
       "      <td>0</td>\n",
       "      <td>105.67</td>\n",
       "      <td>20</td>\n",
       "      <td>12</td>\n",
       "      <td>2018</td>\n",
       "    </tr>\n",
       "    <tr>\n",
       "      <th>4</th>\n",
       "      <td>ID_2OTD9NX8L73D</td>\n",
       "      <td>1546</td>\n",
       "      <td>3937</td>\n",
       "      <td>26850.0</td>\n",
       "      <td>13</td>\n",
       "      <td>7</td>\n",
       "      <td>30</td>\n",
       "      <td>21</td>\n",
       "      <td>2018-11-07</td>\n",
       "      <td>0</td>\n",
       "      <td>0</td>\n",
       "      <td>6</td>\n",
       "      <td>19</td>\n",
       "      <td>0</td>\n",
       "      <td>1605.64</td>\n",
       "      <td>7</td>\n",
       "      <td>11</td>\n",
       "      <td>2018</td>\n",
       "    </tr>\n",
       "    <tr>\n",
       "      <th>5</th>\n",
       "      <td>ID_H22FLDGRJ0JR</td>\n",
       "      <td>402</td>\n",
       "      <td>1165</td>\n",
       "      <td>80000.0</td>\n",
       "      <td>13</td>\n",
       "      <td>1</td>\n",
       "      <td>30</td>\n",
       "      <td>21</td>\n",
       "      <td>2019-12-03</td>\n",
       "      <td>0</td>\n",
       "      <td>1</td>\n",
       "      <td>1</td>\n",
       "      <td>1</td>\n",
       "      <td>1</td>\n",
       "      <td>0.00</td>\n",
       "      <td>3</td>\n",
       "      <td>12</td>\n",
       "      <td>2019</td>\n",
       "    </tr>\n",
       "  </tbody>\n",
       "</table>\n",
       "</div>"
      ],
      "text/plain": [
       "          claim_id  policy_number  claim_number  sum_insured  product  agent  \\\n",
       "1  ID_KQ5TJMVLJ4EP           1032          2871      16000.0        4      7   \n",
       "2  ID_NYHI7WJGGIAE            549          2249       3000.0       26      1   \n",
       "3  ID_ROMMDCXYUXN5           2294          5303       6000.0        4      1   \n",
       "4  ID_2OTD9NX8L73D           1546          3937      26850.0       13      7   \n",
       "5  ID_H22FLDGRJ0JR            402          1165      80000.0       13      1   \n",
       "\n",
       "   class_of_business  risk_type  loss_date  client_type  renewal_frequency  \\\n",
       "1                  9         30 2018-05-13            2                  0   \n",
       "2                  9         24 2018-08-18            2                  0   \n",
       "3                  8         30 2018-12-20            2                  0   \n",
       "4                 30         21 2018-11-07            0                  0   \n",
       "5                 30         21 2019-12-03            0                  1   \n",
       "\n",
       "   primary_cause  secondary_cause  branch   target  loss_date_day  \\\n",
       "1              6               21       1  3780.24             13   \n",
       "2              6               22       1  2196.50             18   \n",
       "3              6               19       0   105.67             20   \n",
       "4              6               19       0  1605.64              7   \n",
       "5              1                1       1     0.00              3   \n",
       "\n",
       "   loss_date_month  loss_date_year  \n",
       "1                5            2018  \n",
       "2                8            2018  \n",
       "3               12            2018  \n",
       "4               11            2018  \n",
       "5               12            2019  "
      ]
     },
     "execution_count": 48,
     "metadata": {},
     "output_type": "execute_result"
    }
   ],
   "source": [
    "# Label encode categorical variables\n",
    "for col in cat_cols:\n",
    "  # Instantiate Labelencoder\n",
    "  le = LabelEncoder()\n",
    "  train[col] = le.fit_transform(train[col])\n",
    "\n",
    "# Preview engineered train dataset\n",
    "train.head()\n"
   ]
  },
  {
   "cell_type": "markdown",
   "id": "d5424583",
   "metadata": {},
   "source": [
    "Preproccessing test data"
   ]
  },
  {
   "cell_type": "code",
   "execution_count": 49,
   "id": "731724fd",
   "metadata": {},
   "outputs": [
    {
     "data": {
      "text/html": [
       "<div>\n",
       "<style scoped>\n",
       "    .dataframe tbody tr th:only-of-type {\n",
       "        vertical-align: middle;\n",
       "    }\n",
       "\n",
       "    .dataframe tbody tr th {\n",
       "        vertical-align: top;\n",
       "    }\n",
       "\n",
       "    .dataframe thead th {\n",
       "        text-align: right;\n",
       "    }\n",
       "</style>\n",
       "<table border=\"1\" class=\"dataframe\">\n",
       "  <thead>\n",
       "    <tr style=\"text-align: right;\">\n",
       "      <th></th>\n",
       "      <th>claim_id</th>\n",
       "      <th>policy_number</th>\n",
       "      <th>claim_number</th>\n",
       "      <th>sum_insured</th>\n",
       "      <th>product</th>\n",
       "      <th>agent</th>\n",
       "      <th>class_of_business</th>\n",
       "      <th>risk_type</th>\n",
       "      <th>loss_date</th>\n",
       "      <th>client_type</th>\n",
       "      <th>renewal_frequency</th>\n",
       "      <th>primary_cause</th>\n",
       "      <th>secondary_cause</th>\n",
       "      <th>branch</th>\n",
       "      <th>loss_date_day</th>\n",
       "      <th>loss_date_month</th>\n",
       "      <th>loss_date_year</th>\n",
       "    </tr>\n",
       "  </thead>\n",
       "  <tbody>\n",
       "    <tr>\n",
       "      <th>0</th>\n",
       "      <td>ID_4RO0KZI9BBW2</td>\n",
       "      <td>739</td>\n",
       "      <td>1667</td>\n",
       "      <td>300000.0</td>\n",
       "      <td>4</td>\n",
       "      <td>4</td>\n",
       "      <td>8</td>\n",
       "      <td>29</td>\n",
       "      <td>2021-03-11</td>\n",
       "      <td>2</td>\n",
       "      <td>0</td>\n",
       "      <td>6</td>\n",
       "      <td>26</td>\n",
       "      <td>3</td>\n",
       "      <td>11</td>\n",
       "      <td>3</td>\n",
       "      <td>2021</td>\n",
       "    </tr>\n",
       "    <tr>\n",
       "      <th>1</th>\n",
       "      <td>ID_GTE9ZUJ9GZ97</td>\n",
       "      <td>312</td>\n",
       "      <td>883</td>\n",
       "      <td>2700000.0</td>\n",
       "      <td>12</td>\n",
       "      <td>3</td>\n",
       "      <td>28</td>\n",
       "      <td>20</td>\n",
       "      <td>2020-06-25</td>\n",
       "      <td>0</td>\n",
       "      <td>2</td>\n",
       "      <td>6</td>\n",
       "      <td>20</td>\n",
       "      <td>1</td>\n",
       "      <td>25</td>\n",
       "      <td>6</td>\n",
       "      <td>2020</td>\n",
       "    </tr>\n",
       "    <tr>\n",
       "      <th>2</th>\n",
       "      <td>ID_RUVIYRKWZ4RG</td>\n",
       "      <td>917</td>\n",
       "      <td>1895</td>\n",
       "      <td>4071352.0</td>\n",
       "      <td>10</td>\n",
       "      <td>0</td>\n",
       "      <td>14</td>\n",
       "      <td>14</td>\n",
       "      <td>2019-03-14</td>\n",
       "      <td>0</td>\n",
       "      <td>0</td>\n",
       "      <td>9</td>\n",
       "      <td>43</td>\n",
       "      <td>0</td>\n",
       "      <td>14</td>\n",
       "      <td>3</td>\n",
       "      <td>2019</td>\n",
       "    </tr>\n",
       "    <tr>\n",
       "      <th>3</th>\n",
       "      <td>ID_J81X8SWU6JYN</td>\n",
       "      <td>2081</td>\n",
       "      <td>3852</td>\n",
       "      <td>0.0</td>\n",
       "      <td>1</td>\n",
       "      <td>1</td>\n",
       "      <td>1</td>\n",
       "      <td>1</td>\n",
       "      <td>2018-12-04</td>\n",
       "      <td>0</td>\n",
       "      <td>1</td>\n",
       "      <td>1</td>\n",
       "      <td>10</td>\n",
       "      <td>4</td>\n",
       "      <td>4</td>\n",
       "      <td>12</td>\n",
       "      <td>2018</td>\n",
       "    </tr>\n",
       "    <tr>\n",
       "      <th>4</th>\n",
       "      <td>ID_94NM3JJAWWOQ</td>\n",
       "      <td>257</td>\n",
       "      <td>507</td>\n",
       "      <td>1607178.0</td>\n",
       "      <td>12</td>\n",
       "      <td>1</td>\n",
       "      <td>28</td>\n",
       "      <td>20</td>\n",
       "      <td>2019-09-18</td>\n",
       "      <td>0</td>\n",
       "      <td>2</td>\n",
       "      <td>6</td>\n",
       "      <td>20</td>\n",
       "      <td>1</td>\n",
       "      <td>18</td>\n",
       "      <td>9</td>\n",
       "      <td>2019</td>\n",
       "    </tr>\n",
       "  </tbody>\n",
       "</table>\n",
       "</div>"
      ],
      "text/plain": [
       "          claim_id  policy_number  claim_number  sum_insured  product  agent  \\\n",
       "0  ID_4RO0KZI9BBW2            739          1667     300000.0        4      4   \n",
       "1  ID_GTE9ZUJ9GZ97            312           883    2700000.0       12      3   \n",
       "2  ID_RUVIYRKWZ4RG            917          1895    4071352.0       10      0   \n",
       "3  ID_J81X8SWU6JYN           2081          3852          0.0        1      1   \n",
       "4  ID_94NM3JJAWWOQ            257           507    1607178.0       12      1   \n",
       "\n",
       "   class_of_business  risk_type  loss_date  client_type  renewal_frequency  \\\n",
       "0                  8         29 2021-03-11            2                  0   \n",
       "1                 28         20 2020-06-25            0                  2   \n",
       "2                 14         14 2019-03-14            0                  0   \n",
       "3                  1          1 2018-12-04            0                  1   \n",
       "4                 28         20 2019-09-18            0                  2   \n",
       "\n",
       "   primary_cause  secondary_cause  branch  loss_date_day  loss_date_month  \\\n",
       "0              6               26       3             11                3   \n",
       "1              6               20       1             25                6   \n",
       "2              9               43       0             14                3   \n",
       "3              1               10       4              4               12   \n",
       "4              6               20       1             18                9   \n",
       "\n",
       "   loss_date_year  \n",
       "0            2021  \n",
       "1            2020  \n",
       "2            2019  \n",
       "3            2018  \n",
       "4            2019  "
      ]
     },
     "execution_count": 49,
     "metadata": {},
     "output_type": "execute_result"
    }
   ],
   "source": [
    "# Convert datetime variables to datetime objects\n",
    "test.loss_date = pd.to_datetime(test.loss_date, errors='coerce')\n",
    "\n",
    "# Fill in missing values in categorical variables with the most common\n",
    "test[cat_cols] = test[cat_cols].apply(lambda x: x.fillna(x.value_counts().index[0]))\n",
    "\n",
    "# Convert\n",
    "for col in cat_cols:\n",
    "  test[col] = test[col].astype('category')\n",
    "\n",
    "# Extract day, month and year from the loss date column\n",
    "test['loss_date_day'] = test.loss_date.dt.day #day\n",
    "\n",
    "test['loss_date_month'] = test.loss_date.dt.month #month\n",
    " \n",
    "test['loss_date_year'] = test.loss_date.dt.year #year\n",
    "\n",
    "# Label encode categorical variables\n",
    "for col in cat_cols:\n",
    "  # Instantiate Labelencoder\n",
    "  le = LabelEncoder()\n",
    "  test[col] = le.fit_transform(test[col])\n",
    "\n",
    "# Preview engineered test dataset\n",
    "test.head()"
   ]
  },
  {
   "cell_type": "markdown",
   "id": "3c053acb",
   "metadata": {},
   "source": [
    "Modelling "
   ]
  },
  {
   "cell_type": "code",
   "execution_count": 92,
   "id": "6ddb35a3",
   "metadata": {},
   "outputs": [
    {
     "name": "stdout",
     "output_type": "stream",
     "text": [
      "LinearRegression MAE score on the X_test is: 3369.289985183443\n"
     ]
    }
   ],
   "source": [
    "from sklearn.ensemble import RandomForestRegressor\n",
    "# Select main columns to be used in training\n",
    "main_cols = train.columns.difference(['claim_id', 'loss_date', 'target']).tolist()\n",
    "X = train[main_cols]\n",
    "y = train.target\n",
    "\n",
    "# Split data into train and test sets\n",
    "X_train, X_test, y_train, y_test = train_test_split(X,y,test_size=0.27, random_state=7)\n",
    "\n",
    "# Train model\n",
    "model = RandomForestRegressor()\n",
    "model.fit(X_train, y_train)\n",
    "\n",
    "# Make predictions\n",
    "y_pred = model.predict(X_test)\n",
    "\n",
    "# Check the MAE score of the model\n",
    "print(f'LinearRegression MAE score on the X_test is: {mean_absolute_error(y_test, y_pred)}')"
   ]
  },
  {
   "cell_type": "code",
   "execution_count": 85,
   "id": "84d442e2",
   "metadata": {},
   "outputs": [],
   "source": [
    "#from sklearn.ensemble import GradientBoostRegresor"
   ]
  },
  {
   "cell_type": "code",
   "execution_count": 56,
   "id": "0cc5003c",
   "metadata": {},
   "outputs": [],
   "source": [
    "#Tuning the model\n",
    "from sklearn.model_selection import GridSearchCV\n",
    "param_grid = {\n",
    "    'bootstrap': [True],\n",
    "    'max_depth': [3, 5, 8, 10, 14, 18],\n",
    "    'max_features': [2, 3],\n",
    "    'min_samples_leaf': [3, 4, 5],\n",
    "    'min_samples_split': [8, 10, 12],\n",
    "    'n_estimators': [100, 200, 300, 1000]\n",
    "}\n",
    "gscv = GridSearchCV(estimator = model, param_grid = param_grid,cv = 3, n_jobs = -1, verbose = 2)"
   ]
  },
  {
   "cell_type": "code",
   "execution_count": 38,
   "id": "5ece9824",
   "metadata": {},
   "outputs": [],
   "source": [
    "#gscv.fit(X_train, y_train)\n",
    "#print(\"Best parameters:\", gscv.best_params_)"
   ]
  },
  {
   "cell_type": "code",
   "execution_count": null,
   "id": "fbf4668a",
   "metadata": {},
   "outputs": [],
   "source": []
  },
  {
   "cell_type": "code",
   "execution_count": 80,
   "id": "16995c9f",
   "metadata": {},
   "outputs": [
    {
     "name": "stdout",
     "output_type": "stream",
     "text": [
      "LinearRegression MAE score on the X_test is: 3309.605912397312\n"
     ]
    }
   ],
   "source": [
    "new_model = RandomForestRegressor(bootstrap= True, max_depth= 8, max_features= 6, min_samples_leaf= 7, min_samples_split= 25, n_estimators= 1500)\n",
    "new_model.fit(X_train, y_train)\n",
    "\n",
    "# Make predictions\n",
    "y_pred = model.predict(X_test)\n",
    "\n",
    "# Check the MAE score of the model\n",
    "print(f'LinearRegression MAE score on the X_test is: {mean_absolute_error(y_test, y_pred)}')"
   ]
  },
  {
   "cell_type": "code",
   "execution_count": 58,
   "id": "cc3adfd2",
   "metadata": {},
   "outputs": [
    {
     "data": {
      "text/plain": [
       "Lasso()"
      ]
     },
     "execution_count": 58,
     "metadata": {},
     "output_type": "execute_result"
    }
   ],
   "source": [
    "from sklearn.linear_model import Lasso\n",
    "lasso = Lasso()\n",
    "lasso.fit(X_train,y_train)"
   ]
  },
  {
   "cell_type": "code",
   "execution_count": 59,
   "id": "725da526",
   "metadata": {},
   "outputs": [],
   "source": [
    "pred = lasso.predict(X_test)"
   ]
  },
  {
   "cell_type": "code",
   "execution_count": 60,
   "id": "e9e7016c",
   "metadata": {},
   "outputs": [
    {
     "data": {
      "text/plain": [
       "3729.701256125785"
      ]
     },
     "execution_count": 60,
     "metadata": {},
     "output_type": "execute_result"
    }
   ],
   "source": [
    "mean_absolute_error(y_test, pred)"
   ]
  },
  {
   "cell_type": "code",
   "execution_count": 61,
   "id": "ca758eab",
   "metadata": {},
   "outputs": [
    {
     "data": {
      "image/png": "[encoded data removed]",
      "text/plain": [
       "<Figure size 864x432 with 1 Axes>"
      ]
     },
     "metadata": {
      "needs_background": "light"
     },
     "output_type": "display_data"
    }
   ],
   "source": [
    "# Make prediction on the test set\n",
    "test_df = test[main_cols]\n",
    "predictions = model.predict(test_df)\n",
    "\n",
    "# # Create a submission file\n",
    "sub_file = samplesubmission.copy()\n",
    "sub_file.target = predictions\n",
    "\n",
    "# Check the distribution of your predictions\n",
    "plt.figure(figsize=(12, 6))\n",
    "sns.boxplot(sub_file.target)\n",
    "plt.title('Predictions Data Distribution');"
   ]
  },
  {
   "cell_type": "code",
   "execution_count": 62,
   "id": "06a9e28d",
   "metadata": {},
   "outputs": [
    {
     "data": {
      "text/html": [
       "<div>\n",
       "<style scoped>\n",
       "    .dataframe tbody tr th:only-of-type {\n",
       "        vertical-align: middle;\n",
       "    }\n",
       "\n",
       "    .dataframe tbody tr th {\n",
       "        vertical-align: top;\n",
       "    }\n",
       "\n",
       "    .dataframe thead th {\n",
       "        text-align: right;\n",
       "    }\n",
       "</style>\n",
       "<table border=\"1\" class=\"dataframe\">\n",
       "  <thead>\n",
       "    <tr style=\"text-align: right;\">\n",
       "      <th></th>\n",
       "      <th>claim_id</th>\n",
       "      <th>target</th>\n",
       "    </tr>\n",
       "  </thead>\n",
       "  <tbody>\n",
       "    <tr>\n",
       "      <th>0</th>\n",
       "      <td>ID_4RO0KZI9BBW2</td>\n",
       "      <td>13569.8465</td>\n",
       "    </tr>\n",
       "    <tr>\n",
       "      <th>1</th>\n",
       "      <td>ID_GTE9ZUJ9GZ97</td>\n",
       "      <td>12344.6435</td>\n",
       "    </tr>\n",
       "    <tr>\n",
       "      <th>2</th>\n",
       "      <td>ID_RUVIYRKWZ4RG</td>\n",
       "      <td>4656.5884</td>\n",
       "    </tr>\n",
       "    <tr>\n",
       "      <th>3</th>\n",
       "      <td>ID_J81X8SWU6JYN</td>\n",
       "      <td>3711.3238</td>\n",
       "    </tr>\n",
       "    <tr>\n",
       "      <th>4</th>\n",
       "      <td>ID_94NM3JJAWWOQ</td>\n",
       "      <td>6311.4880</td>\n",
       "    </tr>\n",
       "  </tbody>\n",
       "</table>\n",
       "</div>"
      ],
      "text/plain": [
       "          claim_id      target\n",
       "0  ID_4RO0KZI9BBW2  13569.8465\n",
       "1  ID_GTE9ZUJ9GZ97  12344.6435\n",
       "2  ID_RUVIYRKWZ4RG   4656.5884\n",
       "3  ID_J81X8SWU6JYN   3711.3238\n",
       "4  ID_94NM3JJAWWOQ   6311.4880"
      ]
     },
     "execution_count": 62,
     "metadata": {},
     "output_type": "execute_result"
    }
   ],
   "source": [
    "# Preview the sub_file\n",
    "sub_file.head()"
   ]
  },
  {
   "cell_type": "code",
   "execution_count": 64,
   "id": "5b0de62f",
   "metadata": {},
   "outputs": [],
   "source": [
    "# Write to csv file to submit to Zindi\n",
    "sub_file.to_csv(\"sub1.csv\", index = False)"
   ]
  },
  {
   "cell_type": "code",
   "execution_count": null,
   "id": "260f77bd",
   "metadata": {},
   "outputs": [],
   "source": []
  },
  {
   "cell_type": "code",
   "execution_count": null,
   "id": "586fe196",
   "metadata": {},
   "outputs": [],
   "source": []
  },
  {
   "cell_type": "code",
   "execution_count": null,
   "id": "fd29f15e",
   "metadata": {},
   "outputs": [],
   "source": []
  },
  {
   "cell_type": "code",
   "execution_count": null,
   "id": "d836e22f",
   "metadata": {},
   "outputs": [],
   "source": []
  },
  {
   "cell_type": "code",
   "execution_count": null,
   "id": "67d3133b",
   "metadata": {},
   "outputs": [],
   "source": []
  },
  {
   "cell_type": "code",
   "execution_count": null,
   "id": "40f47ea4",
   "metadata": {},
   "outputs": [],
   "source": []
  },
  {
   "cell_type": "code",
   "execution_count": null,
   "id": "6fbeb3f6",
   "metadata": {},
   "outputs": [],
   "source": []
  },
  {
   "cell_type": "code",
   "execution_count": null,
   "id": "5e15e9b6",
   "metadata": {},
   "outputs": [],
   "source": []
  },
  {
   "cell_type": "code",
   "execution_count": null,
   "id": "8b49b071",
   "metadata": {},
   "outputs": [],
   "source": []
  },
  {
   "cell_type": "code",
   "execution_count": null,
   "id": "a3c84ac1",
   "metadata": {},
   "outputs": [],
   "source": []
  },
  {
   "cell_type": "code",
   "execution_count": null,
   "id": "74397b3c",
   "metadata": {},
   "outputs": [],
   "source": []
  },
  {
   "cell_type": "code",
   "execution_count": null,
   "id": "8bddf80f",
   "metadata": {},
   "outputs": [],
   "source": []
  },
  {
   "cell_type": "code",
   "execution_count": null,
   "id": "a7198704",
   "metadata": {},
   "outputs": [],
   "source": []
  },
  {
   "cell_type": "code",
   "execution_count": null,
   "id": "17eb4644",
   "metadata": {},
   "outputs": [],
   "source": []
  },
  {
   "cell_type": "code",
   "execution_count": null,
   "id": "dfcacf92",
   "metadata": {},
   "outputs": [],
   "source": []
  },
  {
   "cell_type": "code",
   "execution_count": null,
   "id": "6bcf4204",
   "metadata": {},
   "outputs": [],
   "source": []
  },
  {
   "cell_type": "code",
   "execution_count": null,
   "id": "9b5f87fe",
   "metadata": {},
   "outputs": [],
   "source": []
  },
  {
   "cell_type": "code",
   "execution_count": null,
   "id": "a7bd392e",
   "metadata": {},
   "outputs": [],
   "source": []
  },
  {
   "cell_type": "code",
   "execution_count": null,
   "id": "81bd41b3",
   "metadata": {},
   "outputs": [],
   "source": []
  },
  {
   "cell_type": "code",
   "execution_count": null,
   "id": "8a13f7c9",
   "metadata": {},
   "outputs": [],
   "source": []
  },
  {
   "cell_type": "code",
   "execution_count": null,
   "id": "4c9668be",
   "metadata": {},
   "outputs": [],
   "source": []
  },
  {
   "cell_type": "code",
   "execution_count": null,
   "id": "6b1c8e02",
   "metadata": {},
   "outputs": [],
   "source": []
  },
  {
   "cell_type": "code",
   "execution_count": null,
   "id": "e6d9e873",
   "metadata": {},
   "outputs": [],
   "source": []
  },
  {
   "cell_type": "code",
   "execution_count": null,
   "id": "cc817aec",
   "metadata": {},
   "outputs": [],
   "source": []
  },
  {
   "cell_type": "code",
   "execution_count": null,
   "id": "7a0a3702",
   "metadata": {},
   "outputs": [],
   "source": []
  },
  {
   "cell_type": "code",
   "execution_count": null,
   "id": "eccbe542",
   "metadata": {},
   "outputs": [],
   "source": []
  },
  {
   "cell_type": "code",
   "execution_count": null,
   "id": "44fe8b7b",
   "metadata": {},
   "outputs": [],
   "source": []
  },
  {
   "cell_type": "code",
   "execution_count": null,
   "id": "3724438a",
   "metadata": {},
   "outputs": [],
   "source": []
  },
  {
   "cell_type": "code",
   "execution_count": null,
   "id": "af328f0f",
   "metadata": {},
   "outputs": [],
   "source": []
  },
  {
   "cell_type": "code",
   "execution_count": null,
   "id": "61f6c65e",
   "metadata": {},
   "outputs": [],
   "source": []
  },
  {
   "cell_type": "code",
   "execution_count": null,
   "id": "4a0256e3",
   "metadata": {},
   "outputs": [],
   "source": []
  },
  {
   "cell_type": "code",
   "execution_count": null,
   "id": "79b6b253",
   "metadata": {},
   "outputs": [],
   "source": []
  },
  {
   "cell_type": "code",
   "execution_count": null,
   "id": "8c824ba2",
   "metadata": {},
   "outputs": [],
   "source": []
  },
  {
   "cell_type": "code",
   "execution_count": null,
   "id": "a28b8c47",
   "metadata": {},
   "outputs": [],
   "source": []
  },
  {
   "cell_type": "code",
   "execution_count": null,
   "id": "9742f161",
   "metadata": {},
   "outputs": [],
   "source": []
  },
  {
   "cell_type": "code",
   "execution_count": null,
   "id": "b043a81b",
   "metadata": {},
   "outputs": [],
   "source": []
  },
  {
   "cell_type": "code",
   "execution_count": null,
   "id": "0fe0b53c",
   "metadata": {},
   "outputs": [],
   "source": []
  },
  {
   "cell_type": "code",
   "execution_count": null,
   "id": "ad5f4391",
   "metadata": {},
   "outputs": [],
   "source": []
  },
  {
   "cell_type": "code",
   "execution_count": null,
   "id": "d021c1ca",
   "metadata": {},
   "outputs": [],
   "source": []
  },
  {
   "cell_type": "code",
   "execution_count": null,
   "id": "ef865a96",
   "metadata": {},
   "outputs": [],
   "source": []
  },
  {
   "cell_type": "code",
   "execution_count": null,
   "id": "3bf0bd6d",
   "metadata": {},
   "outputs": [],
   "source": []
  },
  {
   "cell_type": "code",
   "execution_count": null,
   "id": "06d0206f",
   "metadata": {},
   "outputs": [],
   "source": []
  },
  {
   "cell_type": "code",
   "execution_count": null,
   "id": "f68d42b2",
   "metadata": {},
   "outputs": [],
   "source": []
  },
  {
   "cell_type": "code",
   "execution_count": null,
   "id": "ea4d37df",
   "metadata": {},
   "outputs": [],
   "source": []
  },
  {
   "cell_type": "code",
   "execution_count": null,
   "id": "62d1706e",
   "metadata": {},
   "outputs": [],
   "source": []
  },
  {
   "cell_type": "code",
   "execution_count": null,
   "id": "839ee7f0",
   "metadata": {},
   "outputs": [],
   "source": []
  },
  {
   "cell_type": "code",
   "execution_count": null,
   "id": "3484e6b7",
   "metadata": {},
   "outputs": [],
   "source": []
  },
  {
   "cell_type": "code",
   "execution_count": null,
   "id": "ed56874b",
   "metadata": {},
   "outputs": [],
   "source": []
  },
  {
   "cell_type": "code",
   "execution_count": null,
   "id": "b1fab4f6",
   "metadata": {},
   "outputs": [],
   "source": []
  },
  {
   "cell_type": "code",
   "execution_count": null,
   "id": "548dc989",
   "metadata": {},
   "outputs": [],
   "source": []
  },
  {
   "cell_type": "code",
   "execution_count": null,
   "id": "334a4dde",
   "metadata": {},
   "outputs": [],
   "source": []
  }
 ],
 "metadata": {
  "kernelspec": {
   "display_name": "Python 3",
   "language": "python",
   "name": "python3"
  }
 },
 "nbformat": 4,
 "nbformat_minor": 5
}
